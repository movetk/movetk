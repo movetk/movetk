{
 "cells": [
  {
   "cell_type": "code",
   "execution_count": 2,
   "metadata": {
    "tags": []
   },
   "outputs": [
    {
     "output_type": "stream",
     "name": "stdout",
     "text": "/usr/src\n"
    }
   ],
   "source": [
    "!pwd"
   ]
  },
  {
   "cell_type": "code",
   "execution_count": 3,
   "metadata": {},
   "outputs": [],
   "source": [
    "#pragma cling add_include_path(\"/usr/src/movetk/tutorials\")"
   ]
  },
  {
   "cell_type": "code",
   "execution_count": 4,
   "metadata": {},
   "outputs": [],
   "source": [
    "#pragma cling add_include_path(\"/usr/local/include\")"
   ]
  },
  {
   "cell_type": "code",
   "execution_count": 5,
   "metadata": {
    "tags": []
   },
   "outputs": [],
   "source": [
    "#include \"movetk/utils/GeometryBackendTraits.h\""
   ]
  },
  {
   "cell_type": "code",
   "execution_count": 6,
   "metadata": {},
   "outputs": [],
   "source": [
    "typedef GeometryKernel::MovetkGeometryKernel MovetkGeometryKernel;\n",
    "typedef GeometryKernel::Norm Norm;\n",
    "typedef GeometryKernel::SphSegIntersectionTraits SphSegIntersectionTraits;\n",
    "using IntersectionAttributes = SphSegIntersectionTraits::Attributes;\n",
    "typedef GeometryKernel::SphSphIntersectionTraits SphSphIntersectionTraits;\n",
    "typedef GeometryKernel::FreeSpaceCellTraits FreeSpaceCellTraits;\n",
    "typedef GeometryKernel::FreeSpaceDiagram FreeSpaceDiagram;"
   ]
  },
  {
   "cell_type": "code",
   "execution_count": 6,
   "metadata": {},
   "outputs": [],
   "source": [
    "#include \"movetk/metric/DistanceInterface.h\""
   ]
  },
  {
   "cell_type": "markdown",
   "metadata": {},
   "source": [
    "# Create Point"
   ]
  },
  {
   "cell_type": "code",
   "execution_count": 7,
   "metadata": {},
   "outputs": [
    {
     "output_type": "stream",
     "text": "http://127.0.0.1/movetk.reference/structmovetk__core_1_1_make_point.html"
    }
   ],
   "source": [
    "?movetk::geom::MakePoint"
   ]
  },
  {
   "cell_type": "code",
   "execution_count": 8,
   "metadata": {
    "tags": []
   },
   "outputs": [],
   "source": [
    "movetk::geom::MakePoint<MovetkGeometryKernel> make_point;"
   ]
  },
  {
   "cell_type": "code",
   "execution_count": 9,
   "metadata": {
    "tags": []
   },
   "outputs": [
    {
     "output_type": "stream",
     "name": "stdout",
     "text": "1.000000,1.0000002.000000,2.000000"
    }
   ],
   "source": [
    "{\n",
    "    MovetkGeometryKernel::MovetkPoint p = make_point({1, 1});\n",
    "    std::cout << p;\n",
    "}\n",
    "{\n",
    "    MovetkGeometryKernel::MovetkPoint p = make_point({2, 2});\n",
    "    std::cout << p;\n",
    "}"
   ]
  },
  {
   "cell_type": "markdown",
   "metadata": {},
   "source": [
    "# Create  Segment"
   ]
  },
  {
   "cell_type": "code",
   "execution_count": 10,
   "metadata": {},
   "outputs": [
    {
     "output_type": "stream",
     "text": "http://127.0.0.1/movetk.reference/structmovetk__core_1_1_make_segment.html"
    }
   ],
   "source": [
    "?movetk::geom::MakeSegment"
   ]
  },
  {
   "cell_type": "code",
   "execution_count": 11,
   "metadata": {},
   "outputs": [],
   "source": [
    "movetk::geom::MakeSegment<MovetkGeometryKernel> make_segment;"
   ]
  },
  {
   "cell_type": "code",
   "execution_count": 12,
   "metadata": {},
   "outputs": [
    {
     "output_type": "stream",
     "text": "http://127.0.0.1/movetk.reference/structmovetk__core_1_1_compute_length.html"
    }
   ],
   "source": [
    "?movetk::utils::ComputeLength"
   ]
  },
  {
   "cell_type": "code",
   "execution_count": 13,
   "metadata": {},
   "outputs": [],
   "source": [
    "movetk::utils::ComputeLength<MovetkGeometryKernel> compute_length;"
   ]
  },
  {
   "cell_type": "code",
   "execution_count": 14,
   "metadata": {
    "tags": []
   },
   "outputs": [
    {
     "output_type": "stream",
     "name": "stdout",
     "text": "Length of the Segment: 1.41421\n"
    }
   ],
   "source": [
    "{\n",
    "    MovetkGeometryKernel::MovetkSegment seg = make_segment({1, 1}, {2, 2});\n",
    "     std::cout<<\"Length of the Segment: \"<<compute_length(seg)<<std::endl;\n",
    "}"
   ]
  },
  {
   "cell_type": "markdown",
   "metadata": {},
   "source": [
    "# Create a line"
   ]
  },
  {
   "cell_type": "code",
   "execution_count": 15,
   "metadata": {},
   "outputs": [
    {
     "output_type": "stream",
     "text": "http://127.0.0.1/movetk.reference/structmovetk__core_1_1_make_line.html"
    }
   ],
   "source": [
    "?movetk::geom::MakeLine"
   ]
  },
  {
   "cell_type": "code",
   "execution_count": 16,
   "metadata": {},
   "outputs": [],
   "source": [
    "movetk::geom::MakeLine<MovetkGeometryKernel> make_line;"
   ]
  },
  {
   "cell_type": "code",
   "execution_count": 17,
   "metadata": {},
   "outputs": [],
   "source": [
    "{\n",
    "     MovetkGeometryKernel::MovetkPoint p1 = make_point({1, 1});\n",
    "     MovetkGeometryKernel::MovetkPoint p2 = make_point({2, 2});\n",
    "     MovetkGeometryKernel::MovetkLine line = make_line(p1, p2);   \n",
    "}"
   ]
  },
  {
   "cell_type": "markdown",
   "metadata": {},
   "source": [
    "# Create a point set"
   ]
  },
  {
   "cell_type": "code",
   "execution_count": 18,
   "metadata": {
    "tags": []
   },
   "outputs": [
    {
     "output_type": "stream",
     "name": "stdout",
     "text": "{1.000000,1.000000;2.000000,2.000000;3.000000,3.000000;}"
    }
   ],
   "source": [
    "{\n",
    "    std::vector<MovetkGeometryKernel::MovetkPoint> points;\n",
    "    points.push_back(make_point({1,1}));\n",
    "    points.push_back(make_point({2,2}));\n",
    "    points.push_back(make_point({3,3}));\n",
    "    std::cout<<\"{\";\n",
    "    for(auto& point: points){\n",
    "        std::cout<<point<<\";\";\n",
    "    }\n",
    "    std::cout<<\"}\";\n",
    "}"
   ]
  },
  {
   "cell_type": "markdown",
   "metadata": {},
   "source": [
    "# Create a polygon"
   ]
  },
  {
   "cell_type": "code",
   "execution_count": 19,
   "metadata": {},
   "outputs": [
    {
     "output_type": "stream",
     "text": "http://127.0.0.1/movetk.reference/structmovetk__core_1_1_make_polygon.html"
    }
   ],
   "source": [
    "?movetk::geom::MakePolygon"
   ]
  },
  {
   "cell_type": "code",
   "execution_count": 20,
   "metadata": {},
   "outputs": [],
   "source": [
    "movetk::geom::MakePolygon<MovetkGeometryKernel> make_polygon;"
   ]
  },
  {
   "cell_type": "code",
   "execution_count": 21,
   "metadata": {
    "tags": []
   },
   "outputs": [
    {
     "output_type": "stream",
     "name": "stdout",
     "text": "1.000000,1.000000;2.000000,2.000000;3.000000,3.000000"
    }
   ],
   "source": [
    "{\n",
    "    std::vector<MovetkGeometryKernel::MovetkPoint> points {\n",
    "        make_point({1,1}),\n",
    "        make_point({2,2}),\n",
    "        make_point({3,3})\n",
    "        };\n",
    "    MovetkGeometryKernel::MovetkPolygon polygon = make_polygon(std::cbegin(points), std::cend(points));\n",
    "    std::cout<<polygon;\n",
    "}"
   ]
  },
  {
   "cell_type": "markdown",
   "metadata": {},
   "source": [
    "# Make Sphere"
   ]
  },
  {
   "cell_type": "code",
   "execution_count": 22,
   "metadata": {},
   "outputs": [
    {
     "output_type": "stream",
     "text": "http://127.0.0.1/movetk.reference/structmovetk__core_1_1_make_sphere.html"
    }
   ],
   "source": [
    "?movetk::geom::MakeSphere"
   ]
  },
  {
   "cell_type": "code",
   "execution_count": 23,
   "metadata": {},
   "outputs": [],
   "source": [
    "movetk::geom::MakeSphere<MovetkGeometryKernel> make_sphere;"
   ]
  },
  {
   "cell_type": "code",
   "execution_count": 24,
   "metadata": {},
   "outputs": [],
   "source": [
    "{\n",
    "    MovetkGeometryKernel::MovetkSphere sphere = make_sphere({0,0}, 1);\n",
    "}"
   ]
  },
  {
   "cell_type": "markdown",
   "metadata": {},
   "source": [
    "# Create a smallest enclosing disk"
   ]
  },
  {
   "cell_type": "code",
   "execution_count": 25,
   "metadata": {},
   "outputs": [
    {
     "output_type": "stream",
     "text": "http://127.0.0.1/movetk.reference/structmovetk__core_1_1_make_min_sphere.html"
    }
   ],
   "source": [
    "?movetk::geom::MakeMinSphere"
   ]
  },
  {
   "cell_type": "code",
   "execution_count": 26,
   "metadata": {},
   "outputs": [],
   "source": [
    "movetk::geom::MakeMinSphere<MovetkGeometryKernel> min_sphere"
   ]
  },
  {
   "cell_type": "code",
   "execution_count": 27,
   "metadata": {
    "tags": []
   },
   "outputs": [
    {
     "output_type": "stream",
     "name": "stdout",
     "text": "Radius: 1.41421\nCenter: 2 2 "
    }
   ],
   "source": [
    "{\n",
    "    std::vector<MovetkGeometryKernel::NT> CenterMinSphere;\n",
    "    std::vector<MovetkGeometryKernel::MovetkPoint> points {\n",
    "        make_point({1,1}),\n",
    "        make_point({2,2}),\n",
    "        make_point({3,3})\n",
    "        };\n",
    "    \n",
    "    MovetkGeometryKernel::NT radius = min_sphere(std::cbegin(points), std::cend(points),\n",
    "                                             std::back_inserter(CenterMinSphere));\n",
    "    std::cout<<\"Radius: \"<<radius<<std::endl;\n",
    "    std::cout<<\"Center: \";\n",
    "    auto it = std::cbegin(CenterMinSphere);\n",
    "    while ( it != std::cend(CenterMinSphere) ){\n",
    "        std::cout<<*it;\n",
    "        std::cout<<\" \";\n",
    "        it++;\n",
    "    }\n",
    "}"
   ]
  },
  {
   "cell_type": "markdown",
   "metadata": {},
   "source": [
    "# Create a wedge"
   ]
  },
  {
   "cell_type": "code",
   "execution_count": 28,
   "metadata": {},
   "outputs": [
    {
     "output_type": "stream",
     "text": "http://127.0.0.1/movetk.reference/classmovetk__core_1_1_wedge.html"
    }
   ],
   "source": [
    "?movetk::utils::Wedge"
   ]
  },
  {
   "cell_type": "code",
   "execution_count": 29,
   "metadata": {
    "tags": []
   },
   "outputs": [
    {
     "output_type": "stream",
     "name": "stdout",
     "text": "Slope: 0.206284,-0.206284\nIntercept: 3.825137,2.174863\n"
    }
   ],
   "source": [
    "{\n",
    "    MovetkGeometryKernel::MovetkPoint p = make_point({-4, 3});\n",
    "    MovetkGeometryKernel::MovetkPoint center = make_point({3, 3});\n",
    "    MovetkGeometryKernel::NT radius = 1.41421356;\n",
    "    movetk::utils::Wedge<MovetkGeometryKernel, Norm> wedge(p, center, radius);\n",
    "    std::cout<<\"Slope: \"<<wedge.slope()<<std::endl;\n",
    "    std::cout<<\"Intercept: \"<< wedge.intercept()<<std::endl;\n",
    "}"
   ]
  },
  {
   "cell_type": "markdown",
   "metadata": {},
   "source": [
    "# Affine Transforms"
   ]
  },
  {
   "cell_type": "markdown",
   "metadata": {},
   "source": [
    "## Create a vector"
   ]
  },
  {
   "cell_type": "code",
   "execution_count": 30,
   "metadata": {
    "tags": []
   },
   "outputs": [
    {
     "output_type": "stream",
     "name": "stdout",
     "text": "Vector: 1.000000,1.000000\n"
    }
   ],
   "source": [
    "{\n",
    "    MovetkGeometryKernel::MovetkPoint p1 = make_point({1, 1});\n",
    "    MovetkGeometryKernel::MovetkPoint p2 = make_point({2, 2});\n",
    "    MovetkGeometryKernel::MovetkVector v = p2 - p1;\n",
    "    std::cout<<\"Vector: \"<<v<<\"\\n\";\n",
    "}"
   ]
  },
  {
   "cell_type": "markdown",
   "metadata": {},
   "source": [
    "## Scaling"
   ]
  },
  {
   "cell_type": "code",
   "execution_count": 31,
   "metadata": {
    "tags": []
   },
   "outputs": [
    {
     "output_type": "stream",
     "name": "stdout",
     "text": "Vector: 1.500000,1.500000\nVector: 1.000000,1.000000\n"
    }
   ],
   "source": [
    "{\n",
    "    MovetkGeometryKernel::MovetkVector v = make_point({2, 2}) - make_point({1, 1});\n",
    "    MovetkGeometryKernel::NT alpha = 1.5;\n",
    "    v *= alpha;\n",
    "    std::cout<<\"Vector: \"<<v<<\"\\n\";\n",
    "    v *= 1 / alpha;\n",
    "    std::cout<<\"Vector: \"<<v<<\"\\n\";\n",
    "}"
   ]
  },
  {
   "cell_type": "markdown",
   "metadata": {},
   "source": [
    "## Translation"
   ]
  },
  {
   "cell_type": "code",
   "execution_count": 32,
   "metadata": {
    "tags": []
   },
   "outputs": [
    {
     "output_type": "stream",
     "name": "stdout",
     "text": "ORIGIN: 0.000000,0.000000\nPoint: 1.000000,1.000000\n"
    }
   ],
   "source": [
    "{\n",
    "    MovetkGeometryKernel::MovetkPoint ORIGIN = make_point({0,0});\n",
    "    std::cout<<\"ORIGIN: \"<<ORIGIN<<\"\\n\";\n",
    "    \n",
    "    MovetkGeometryKernel::MovetkVector v = make_point({2, 2}) - make_point({1, 1});\n",
    "    MovetkGeometryKernel::MovetkPoint p = ORIGIN + v;\n",
    "    std::cout<<\"Point: \"<<p<<\"\\n\";\n",
    "}"
   ]
  },
  {
   "cell_type": "markdown",
   "metadata": {},
   "source": [
    "# Linear Transform"
   ]
  },
  {
   "cell_type": "code",
   "execution_count": 33,
   "metadata": {
    "tags": []
   },
   "outputs": [
    {
     "output_type": "stream",
     "name": "stdout",
     "text": "Basis vector1 : 1.000000,0.000000\nBasis vector2 : 0.000000,1.000000\nAx : 2.000000,2.000000\nb : 1.000000,1.000000\nc : 3.000000,3.000000\n"
    }
   ],
   "source": [
    "{\n",
    "    // Ax + b = c\n",
    "    MovetkGeometryKernel::MovetkPoint ORIGIN = make_point({0,0});\n",
    "    MovetkGeometryKernel::MovetkVector v = make_point({2, 2}) - ORIGIN;\n",
    "    \n",
    "    \n",
    "    MovetkGeometryKernel::MovetkVector e1 = make_point({1,0}) - ORIGIN;\n",
    "    MovetkGeometryKernel::MovetkVector e2 = make_point({0,1}) - ORIGIN;\n",
    "    MovetkGeometryKernel::NT v_x = v * e1;\n",
    "    MovetkGeometryKernel::NT v_y = v * e2;\n",
    "    \n",
    "    \n",
    "    MovetkGeometryKernel::MovetkVector Ax = make_point({v_x, v_y}) - ORIGIN;\n",
    "    MovetkGeometryKernel::MovetkVector b = make_point({1, 1}) - ORIGIN;\n",
    "    MovetkGeometryKernel::MovetkVector c = Ax + b;\n",
    "    \n",
    "    std::cout<<\"Basis vector1 : \"<<e1<<\"\\n\";\n",
    "    std::cout<<\"Basis vector2 : \"<<e2<<\"\\n\";\n",
    "    std::cout<<\"Ax : \"<<Ax<<\"\\n\";\n",
    "    std::cout<<\"b : \"<<b<<\"\\n\";\n",
    "    std::cout<<\"c : \"<<c<<\"\\n\";\n",
    "}"
   ]
  },
  {
   "cell_type": "markdown",
   "metadata": {},
   "source": [
    "# Norm"
   ]
  },
  {
   "cell_type": "code",
   "execution_count": 34,
   "metadata": {},
   "outputs": [
    {
     "output_type": "stream",
     "text": "http://127.0.0.1/movetk.reference/classmovetk__support_1_1_finite_norm.html"
    }
   ],
   "source": [
    "?Norm"
   ]
  },
  {
   "cell_type": "code",
   "execution_count": 35,
   "metadata": {
    "tags": []
   },
   "outputs": [
    {
     "output_type": "stream",
     "name": "stdout",
     "text": "Squared Euclidean Norm: 18\nEuclidean Norm: 4.24264\n"
    }
   ],
   "source": [
    "{\n",
    "    Norm l2_norm;\n",
    "    MovetkGeometryKernel::MovetkPoint ORIGIN = make_point({0,0});\n",
    "    MovetkGeometryKernel::MovetkVector v = make_point({3, 3}) - ORIGIN;\n",
    "    std::cout<<\"Squared Euclidean Norm: \"<<l2_norm(v)<<std::endl;\n",
    "    MovetkGeometryKernel::NT result = l2_norm ^1;\n",
    "    std::cout<<\"Euclidean Norm: \"<<result<<std::endl;\n",
    "}"
   ]
  },
  {
   "cell_type": "markdown",
   "metadata": {},
   "source": [
    "# Distances"
   ]
  },
  {
   "cell_type": "code",
   "execution_count": 36,
   "metadata": {},
   "outputs": [
    {
     "output_type": "stream",
     "text": "http://127.0.0.1/movetk.reference/structmovetk__core_1_1_compute_squared_distance.html"
    }
   ],
   "source": [
    "?movetk::utils::ComputeSquaredDistance"
   ]
  },
  {
   "cell_type": "code",
   "execution_count": 37,
   "metadata": {},
   "outputs": [],
   "source": [
    "movetk::utils::ComputeSquaredDistance<MovetkGeometryKernel, Norm> squared_dist;"
   ]
  },
  {
   "cell_type": "markdown",
   "metadata": {},
   "source": [
    "## p-Norm between point and segment "
   ]
  },
  {
   "cell_type": "code",
   "execution_count": 38,
   "metadata": {
    "tags": []
   },
   "outputs": [
    {
     "output_type": "stream",
     "name": "stdout",
     "text": "p-Norm between point and segment: 8.66\n"
    }
   ],
   "source": [
    "{\n",
    "    MovetkGeometryKernel::MovetkPoint point = make_point({6, 6});\n",
    "    MovetkGeometryKernel::MovetkSegment segment = make_segment({5.5, 3.1},{3.22, 1.3});\n",
    "\n",
    "    MovetkGeometryKernel::NT norm_point_segment = squared_dist(point, segment);\n",
    "    std::cout << \"p-Norm between point and segment: \" << norm_point_segment << std::endl;\n",
    "}"
   ]
  },
  {
   "cell_type": "markdown",
   "metadata": {},
   "source": [
    "# Intersections"
   ]
  },
  {
   "cell_type": "code",
   "execution_count": 39,
   "metadata": {},
   "outputs": [
    {
     "output_type": "stream",
     "text": "http://127.0.0.1/movetk.reference/structmovetk__core_1_1_intersection_traits.html"
    }
   ],
   "source": [
    "?movetk::utils::IntersectionTraits"
   ]
  },
  {
   "cell_type": "code",
   "execution_count": 40,
   "metadata": {},
   "outputs": [
    {
     "output_type": "stream",
     "text": "http://127.0.0.1/movetk.reference/classmovetk__core_1_1_compute_intersections.html"
    }
   ],
   "source": [
    "?movetk::utils::ComputeIntersections"
   ]
  },
  {
   "cell_type": "markdown",
   "metadata": {},
   "source": [
    "## Sphere-Segment Intersection"
   ]
  },
  {
   "cell_type": "code",
   "execution_count": 41,
   "metadata": {
    "tags": []
   },
   "outputs": [],
   "source": [
    "movetk::utils::ComputeIntersections<SphSegIntersectionTraits> compute_sphere_segment_intersections;"
   ]
  },
  {
   "cell_type": "code",
   "execution_count": 42,
   "metadata": {
    "tags": []
   },
   "outputs": [
    {
     "output_type": "stream",
     "name": "stdout",
     "text": "Intersection Point: 5.000000,3.000000\n"
    }
   ],
   "source": [
    "{\n",
    "    MovetkGeometryKernel::MovetkSphere sphere = make_sphere({5, 3}, 1.371);\n",
    "    MovetkGeometryKernel::MovetkSegment segment = make_segment({2, 2}, {4, 6});\n",
    "    \n",
    "    std::vector<SphSegIntersectionTraits::value_type> sphere_segment_intersections;\n",
    "    compute_sphere_segment_intersections(sphere, segment,\n",
    "                                         std::back_inserter(sphere_segment_intersections));\n",
    "    for (auto& intersection: sphere_segment_intersections){\n",
    "        std::cout<<\"Intersection Point: \"<<std::get<IntersectionAttributes::POINT>(intersection)<<\"\\n\";\n",
    "    }\n",
    "}"
   ]
  },
  {
   "cell_type": "markdown",
   "metadata": {},
   "source": [
    "## Sphere-Sphere Intersection"
   ]
  },
  {
   "cell_type": "code",
   "execution_count": 43,
   "metadata": {},
   "outputs": [],
   "source": [
    "movetk::utils::ComputeIntersections<SphSphIntersectionTraits> compute_sphere_sphere_intersections;"
   ]
  },
  {
   "cell_type": "code",
   "execution_count": 44,
   "metadata": {
    "tags": []
   },
   "outputs": [
    {
     "output_type": "stream",
     "name": "stdout",
     "text": "Centre of Intersection sphere: 10.000000,8.000000\nRadius of Intersection sphere: 5\n"
    }
   ],
   "source": [
    "{\n",
    "    MovetkGeometryKernel::MovetkSphere sphere_a = make_sphere({6, 6}, 5);\n",
    "    MovetkGeometryKernel::MovetkSphere sphere_b = make_sphere({14, 10}, 5);\n",
    "    MovetkGeometryKernel::MovetkSphere instersection_sphere = compute_sphere_sphere_intersections(sphere_a, sphere_b);\n",
    "    std::cout<<\"Centre of Intersection sphere: \"<<instersection_sphere.center()<<\"\\n\";\n",
    "    std::cout<<\"Radius of Intersection sphere: \"<<instersection_sphere.squared_radius()<<\"\\n\";\n",
    "}"
   ]
  },
  {
   "cell_type": "markdown",
   "metadata": {},
   "source": [
    "# Minimum Bounding Rectangle"
   ]
  },
  {
   "cell_type": "code",
   "execution_count": 45,
   "metadata": {},
   "outputs": [
    {
     "output_type": "stream",
     "text": "http://127.0.0.1/movetk.reference/classmovetk__core_1_1_m_b_r.html"
    }
   ],
   "source": [
    "?movetk::utils::MBR"
   ]
  },
  {
   "cell_type": "code",
   "execution_count": 46,
   "metadata": {},
   "outputs": [],
   "source": [
    "movetk::utils::MBR<MovetkGeometryKernel, Norm> mbr;"
   ]
  },
  {
   "cell_type": "code",
   "execution_count": 47,
   "metadata": {
    "tags": []
   },
   "outputs": [
    {
     "output_type": "stream",
     "name": "stdout",
     "text": "Vertex A: -0.283577,2.512605\nVertex B: 1.818677,0.013685\n"
    }
   ],
   "source": [
    "{\n",
    "    MovetkGeometryKernel::MovetkPoint p_u = make_point({0,0});\n",
    "    MovetkGeometryKernel::MovetkPoint p_v = make_point({2.57369,4.23548});\n",
    "    auto result = mbr( p_u, p_v, 2, 4);\n",
    "    std::cout<<\"Vertex A: \"<<result.first<<\"\\n\";\n",
    "    std::cout<<\"Vertex B: \"<<result.second<<\"\\n\";\n",
    "}"
   ]
  },
  {
   "cell_type": "markdown",
   "metadata": {},
   "source": [
    "# Make Polylines"
   ]
  },
  {
   "cell_type": "code",
   "execution_count": 48,
   "metadata": {},
   "outputs": [],
   "source": [
    "typedef std::vector<MovetkGeometryKernel::MovetkPoint> PolyLine;\n",
    "PolyLine polyline_a({\n",
    "        make_point({0,0}), make_point({1,1}), make_point({1,2}),\n",
    "        make_point({2,1}), make_point({2,2})\n",
    "    });\n",
    "\n",
    "PolyLine polyline_b({\n",
    "        make_point({1,0}), make_point({0,1}), make_point({1,1}),\n",
    "        make_point({2,1}), make_point({3,1})\n",
    "    });"
   ]
  },
  {
   "cell_type": "markdown",
   "metadata": {},
   "source": [
    "# Discrete Hausdorff"
   ]
  },
  {
   "cell_type": "code",
   "execution_count": 49,
   "metadata": {},
   "outputs": [
    {
     "output_type": "stream",
     "text": "http://127.0.0.1/movetk.reference/structmovetk__core_1_1_compute_discrete_hausdorff_distance.html"
    }
   ],
   "source": [
    "?movetk::utils::ComputeDiscreteHausdorffDistance"
   ]
  },
  {
   "cell_type": "code",
   "execution_count": 50,
   "metadata": {},
   "outputs": [],
   "source": [
    "movetk::utils::ComputeDiscreteHausdorffDistance<MovetkGeometryKernel, Norm> discrete_hausdorff;"
   ]
  },
  {
   "cell_type": "code",
   "execution_count": 51,
   "metadata": {
    "tags": []
   },
   "outputs": [
    {
     "output_type": "stream",
     "name": "stdout",
     "text": "Discrete Hausdorff distance: 1\n"
    }
   ],
   "source": [
    "{\n",
    "   \n",
    "   MovetkGeometryKernel::NT distance_a_b = discrete_hausdorff(std::cbegin(polyline_a), std::cend(polyline_a),\n",
    "                                                            std::cbegin(polyline_b), std::cend(polyline_b));\n",
    "\n",
    "    MovetkGeometryKernel::NT distance_b_a = discrete_hausdorff(std::cbegin(polyline_b), std::cend(polyline_b),\n",
    "                                                            std::cbegin(polyline_a), std::cend(polyline_a));\n",
    "\n",
    "    MovetkGeometryKernel::NT hausdorff_distance = std::max(distance_a_b, distance_b_a);\n",
    "\n",
    "    std::cout<<\"Discrete Hausdorff distance: \"<<hausdorff_distance<<\"\\n\";\n",
    "}"
   ]
  },
  {
   "cell_type": "markdown",
   "metadata": {},
   "source": [
    "# Discrete Frechet "
   ]
  },
  {
   "cell_type": "code",
   "execution_count": 52,
   "metadata": {},
   "outputs": [
    {
     "output_type": "stream",
     "text": "http://127.0.0.1/movetk.reference/structmovetk__core_1_1_compute_discrete_frechet_distance.html"
    }
   ],
   "source": [
    "?movetk::utils::ComputeDiscreteFrechetDistance"
   ]
  },
  {
   "cell_type": "code",
   "execution_count": 53,
   "metadata": {},
   "outputs": [],
   "source": [
    "movetk::utils::ComputeDiscreteFrechetDistance<MovetkGeometryKernel, Norm> discrete_frechet;"
   ]
  },
  {
   "cell_type": "code",
   "execution_count": 54,
   "metadata": {
    "tags": []
   },
   "outputs": [
    {
     "output_type": "stream",
     "name": "stdout",
     "text": "Discrete Frechet distance: 1.41421\n"
    }
   ],
   "source": [
    "{\n",
    "    MovetkGeometryKernel::NT frechet_distance = discrete_frechet(std::begin(polyline_a), std::end(polyline_a),\n",
    "                                                             std::begin(polyline_b), std::end(polyline_b));\n",
    "    std::cout<<\"Discrete Frechet distance: \"<<frechet_distance<<\"\\n\";\n",
    "}"
   ]
  },
  {
   "cell_type": "markdown",
   "metadata": {},
   "source": [
    "# Free Space Cell "
   ]
  },
  {
   "cell_type": "code",
   "execution_count": 55,
   "metadata": {},
   "outputs": [
    {
     "output_type": "stream",
     "text": "http://127.0.0.1/movetk.reference/classmovetk__support_1_1_free_space_cell.html"
    }
   ],
   "source": [
    "?movetk_support::FreeSpaceCell"
   ]
  },
  {
   "cell_type": "code",
   "execution_count": 56,
   "metadata": {
    "tags": []
   },
   "outputs": [
    {
     "output_type": "stream",
     "name": "stdout",
     "text": "Num Intersections: 6\nIntersection in clockwise direction {left(0), top(1), right(2) , botom(3)}\nEDGE_ID,SIGN_DISCRIMINANT,SQUARED_RATIO,INTERSECTION_POINT\n0,-1,-1.00000000,1.000000,1.000000\n1,1,1.00000000,6.000000,6.000000\n1,1,0.36000000,4.000000,4.000000\n2,0,1.00000000,6.000000,4.000000\n3,1,0.36000000,4.000000,4.000000\n3,1,0.04000000,2.000000,2.000000\n"
    }
   ],
   "source": [
    "{\n",
    "    MovetkGeometryKernel::MovetkSegment P = make_segment({2, 4}, {6, 4});\n",
    "    MovetkGeometryKernel::MovetkSegment Q = make_segment({1, 1}, {6, 6});\n",
    "    movetk_support::FreeSpaceCell<FreeSpaceCellTraits> fsc(P, Q, 2);\n",
    "    \n",
    "    std::size_t size = std::distance(fsc.begin(), fsc.end());\n",
    "    std::cout << \"Num Intersections: \" << size << \"\\n\";\n",
    "    std::cout << \"Intersection in clockwise direction {left(0), top(1), right(2) , botom(3)}\\n\";\n",
    "    std::cout << \"EDGE_ID,SIGN_DISCRIMINANT,SQUARED_RATIO,INTERSECTION_POINT\\n\";\n",
    "    for (auto& intersection: fsc) {\n",
    "            print_tuple(std::cout, intersection);\n",
    "            std::cout<<\"\\n\";\n",
    "     }    \n",
    "}"
   ]
  },
  {
   "cell_type": "markdown",
   "metadata": {},
   "source": [
    "# Free Space Diagram"
   ]
  },
  {
   "cell_type": "code",
   "execution_count": 57,
   "metadata": {},
   "outputs": [
    {
     "output_type": "stream",
     "text": "http://127.0.0.1/movetk.reference/classmovetk__support_1_1_free_space_diagram.html"
    }
   ],
   "source": [
    "?movetk_support::FreeSpaceDiagram"
   ]
  },
  {
   "cell_type": "code",
   "execution_count": 58,
   "metadata": {
    "tags": []
   },
   "outputs": [
    {
     "output_type": "stream",
     "name": "stdout",
     "text": "CellId, EdgeID, Intersection_Ratio, Enclosed, Intersects\n1,0,1,1.00000000,1.000000,1.0000000,1\n1,1,1,1.00000000,0.000000,1.0000000,1\n1,2,1,1.00000000,1.000000,1.0000000,1\n1,3,1,1.00000000,0.000000,1.0000000,1\n2,0,1,1.00000000,1.000000,1.0000000,1\n2,1,-1,4.00000000,1.000000,1.0000001,0\n2,2,-1,2.91421356,1.000000,1.0000001,0\n2,2,1,0.08578644,0.292893,0.2928930,1\n3,0,-1,2.91421356,1.000000,1.0000001,0\n3,0,1,0.08578644,0.292893,0.2928930,1\n3,1,1,1.00000000,2.000000,1.0000000,1\n3,1,-1,1.00000000,1.000000,1.0000001,0\n3,2,-1,4.00000000,1.000000,1.0000001,0\n3,2,1,1.00000000,1.000000,1.0000000,1\n4,0,-1,4.00000000,1.000000,1.0000001,0\n4,0,1,1.00000000,1.000000,1.0000000,1\n5,3,1,1.00000000,0.000000,1.0000000,1\n6,1,0,1.00000000,1.000000,1.0000000,1\n6,2,1,1.00000000,1.000000,2.0000000,1\n6,2,-1,1.00000000,1.000000,1.0000001,0\n6,3,-1,4.00000000,1.000000,1.0000001,0\n7,0,1,1.00000000,1.000000,2.0000000,1\n7,0,-1,1.00000000,1.000000,1.0000001,0\n7,3,1,1.00000000,2.000000,1.0000000,1\n7,3,-1,1.00000000,1.000000,1.0000001,0\n10,1,-1,9.00000000,1.000000,1.0000001,0\n10,1,1,1.00000000,1.000000,1.0000000,1\n10,2,1,1.00000000,2.000000,1.0000000,1\n10,3,0,1.00000000,1.000000,1.0000000,1\n11,0,1,1.00000000,2.000000,1.0000000,1\n11,1,-1,4.00000000,2.000000,1.0000001,0\n11,2,-1,2.91421356,2.000000,1.0000001,0\n11,2,1,0.08578644,1.292893,1.7071070,1\n12,0,-1,2.91421356,2.000000,1.0000001,0\n12,0,1,0.08578644,1.292893,1.7071070,1\n12,1,1,1.00000000,3.000000,1.0000000,1\n12,1,-1,1.00000000,2.000000,1.0000001,0\n12,2,-1,4.00000000,2.000000,1.0000001,0\n12,2,1,1.00000000,2.000000,1.0000000,1\n14,3,-1,9.00000000,1.000000,1.0000001,0\n14,3,1,1.00000000,1.000000,1.0000000,1\n15,1,0,1.00000000,2.000000,1.0000000,1\n15,2,1,1.00000000,2.000000,2.0000000,1\n15,2,-1,1.00000000,2.000000,1.0000001,0\n15,3,-1,4.00000000,2.000000,1.0000001,0\n16,0,1,1.00000000,2.000000,2.0000000,1\n16,0,-1,1.00000000,2.000000,1.0000001,0\n16,3,1,1.00000000,3.000000,1.0000000,1\n16,3,-1,1.00000000,2.000000,1.0000001,0\n"
    }
   ],
   "source": [
    "{\n",
    "    FreeSpaceDiagram fsd(std::begin(polyline_a), std::end(polyline_a),\n",
    "                         std::begin(polyline_b), std::end(polyline_b), 1);\n",
    "    std::size_t cell_idx = 1;\n",
    "    std::cout << \"CellId, EdgeID, Intersection_Ratio, Enclosed, Intersects\\n\";\n",
    "    for (auto cell: fsd) {\n",
    "        for (auto intersection: cell) {\n",
    "            if (std::get<IntersectionAttributes::SQUARED_RATIO>(intersection) != -1) {\n",
    "                std::cout << cell_idx << \",\";\n",
    "                print_tuple(std::cout, intersection);           \n",
    "                if (std::get<IntersectionAttributes::SIGN_DISCRIMINANT>(intersection) == -1) {\n",
    "                    std::cout << \"1,0\\n\";\n",
    "                } else {\n",
    "                    std::cout << \"0,1\\n\";\n",
    "                }\n",
    "                \n",
    "            }\n",
    "        }\n",
    "        cell_idx++;\n",
    "    }\n",
    "    \n",
    "}"
   ]
  },
  {
   "cell_type": "markdown",
   "metadata": {},
   "source": [
    "# Demonstration of Data Structure Agnosticism"
   ]
  },
  {
   "cell_type": "code",
   "execution_count": 59,
   "metadata": {},
   "outputs": [
    {
     "output_type": "stream",
     "text": "http://127.0.0.1/movetk.reference/classmovetk__core_1_1movetk__basic__iterator.html"
    }
   ],
   "source": [
    "?movetk::utils::movetk_basic_iterator"
   ]
  },
  {
   "cell_type": "code",
   "execution_count": 60,
   "metadata": {
    "tags": []
   },
   "outputs": [
    {
     "output_type": "stream",
     "name": "stdout",
     "text": "Discrete Hausdorff distance: 1.00000000\n"
    }
   ],
   "source": [
    "{\n",
    "    typedef std::array<MovetkGeometryKernel::MovetkPoint, 5> Array;\n",
    "    Array arr_polyline1({\n",
    "            make_point({0,0}), make_point({1,1}), make_point({1,2}),\n",
    "            make_point({2,1}), make_point({2,2})\n",
    "        });\n",
    "\n",
    "    Array arr_polyline2({\n",
    "            make_point({1,0}), make_point({0,1}), make_point({1,1}),\n",
    "            make_point({2,1}), make_point({3,1})\n",
    "        });\n",
    "\n",
    "    typedef movetk::utils::movetk_basic_iterator<MovetkGeometryKernel::MovetkPoint> iterator;\n",
    "\n",
    "    auto first = std::addressof(arr_polyline1[0]);\n",
    "    auto beyond = std::addressof(arr_polyline1[0]) + 5;\n",
    "    iterator begin_1(first);\n",
    "    iterator end_1(beyond);\n",
    "\n",
    "    first = std::addressof(arr_polyline2[0]);\n",
    "    beyond = std::addressof(arr_polyline2[0]) + 5;\n",
    "    iterator begin_2(first);\n",
    "    iterator end_2(beyond);\n",
    "\n",
    "    MovetkGeometryKernel::NT hausdorff_distance_1 = discrete_hausdorff(begin_1, end_1, begin_2, end_2);\n",
    "    std::cout<<\"Discrete Hausdorff distance: \"<<hausdorff_distance_1<<\"\\n\";\n",
    "}"
   ]
  }
 ],
 "metadata": {
  "kernelspec": {
   "display_name": "C++17",
   "language": "C++17",
   "name": "xcpp17"
  },
  "language_info": {
   "codemirror_mode": "text/x-c++src",
   "file_extension": ".cpp",
   "mimetype": "text/x-c++src",
   "name": "c++",
   "version": "2.7.15-final"
  }
 },
 "nbformat": 4,
 "nbformat_minor": 0
}