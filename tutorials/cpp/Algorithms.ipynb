{
 "cells": [
  {
   "cell_type": "code",
   "execution_count": 2,
   "metadata": {},
   "outputs": [],
   "source": [
    "#pragma cling add_include_path(\"/usr/src/movetk/tutorials\")"
   ]
  },
  {
   "cell_type": "code",
   "execution_count": 3,
   "metadata": {},
   "outputs": [],
   "source": [
    "#pragma cling add_include_path(\"/usr/local/include\")"
   ]
  },
  {
   "cell_type": "code",
   "execution_count": 4,
   "metadata": {
    "tags": []
   },
   "outputs": [
    {
     "output_type": "stream",
     "name": "stderr",
     "text": "In file included from input_line_9:1:\n\u001b[1m/usr/local/include/movetk/utils/Algorithms.h:105:95: \u001b[0m\u001b[0;1;31merror: \u001b[0m\u001b[1muse of undeclared identifier &#39;dimensions&#39;; did you mean &#39;GeometryKernel::dimensions&#39;?\u001b[0m\ntypedef movetk::algo::SegmentationTraits&lt;MovetkGeometryKernel::NT, MovetkGeometryKernel, dimensions&gt; SegmentationTraits;\n\u001b[0;1;32m                                                                                              ^~~~~~~~~~\n\u001b[0m\u001b[0;32m                                                                                              GeometryKernel::dimensions\n\u001b[0m\u001b[1m/usr/local/include/movetk/utils/GeometryBackendTraits.h:81:25: \u001b[0m\u001b[0;1;30mnote: \u001b[0m&#39;GeometryKernel::dimensions&#39; declared here\u001b[0m\n    const static size_t dimensions = 2;\n\u001b[0;1;32m                        ^\n\u001b[0m"
    },
    {
     "output_type": "error",
     "ename": "Interpreter Error",
     "evalue": "",
     "traceback": [
      "Interpreter Error: "
     ]
    }
   ],
   "source": [
    "#include \"movetk/utils/Algorithms.h\""
   ]
  },
  {
   "cell_type": "markdown",
   "metadata": {},
   "source": [
    "# Prepare Data"
   ]
  },
  {
   "cell_type": "markdown",
   "metadata": {},
   "source": [
    "## Define the type"
   ]
  },
  {
   "cell_type": "code",
   "execution_count": 2,
   "metadata": {},
   "outputs": [],
   "source": [
    "struct ProbeTraits{\n",
    "  \n",
    "    enum ProbeColumns{\n",
    "      SAMPLE_DATE, LAT, LON, SPEED, HEADING\n",
    "    }; \n",
    "    \n",
    "   typedef std::tuple<std::string, float, float, float, float>  Probe;\n",
    "};"
   ]
  },
  {
   "cell_type": "markdown",
   "metadata": {},
   "source": [
    "## Set & Get values"
   ]
  },
  {
   "cell_type": "code",
   "execution_count": 3,
   "metadata": {},
   "outputs": [
    {
     "name": "stdout",
     "output_type": "stream",
     "text": [
      "Probe: 2018-09-18 16:59:53,33.29910278,-117.46475220,126.00009918,314.00000000\n",
      "HEADING: 314.00000000\n"
     ]
    }
   ],
   "source": [
    "{\n",
    "    ProbeTraits::Probe p = std::make_tuple(\"2018-09-18 16:59:53\", 33.299103, -117.464751, 126.000101, 314.000000);\n",
    "    \n",
    "    {\n",
    "        std::cout<<\"Probe: \";\n",
    "        print_tuple(std::cout, p);\n",
    "        std::cout<<\"\\n\";\n",
    "    }   \n",
    "    {\n",
    "        using Attributes = ProbeTraits::ProbeColumns;\n",
    "        std::cout<<\"HEADING: \"<<std::get<Attributes::HEADING>(p)<<\"\\n\";\n",
    "    }\n",
    "    \n",
    "}"
   ]
  },
  {
   "cell_type": "markdown",
   "metadata": {},
   "source": [
    "## Create a trajectory"
   ]
  },
  {
   "cell_type": "code",
   "execution_count": 4,
   "metadata": {},
   "outputs": [
    {
     "name": "stdout",
     "output_type": "stream",
     "text": [
      "2018-09-18 17:59:53,33.29910278,-117.46475220,126.00000000,314.00000000\n",
      "2018-09-18 17:59:58,33.30022049,-117.46611023,129.00000000,314.00000000\n",
      "2018-09-18 18:00:03,33.30137634,-117.46750641,131.00000000,314.00000000\n",
      "2018-09-18 18:00:08,33.30253983,-117.46892548,133.00000000,314.00000000\n",
      "2018-09-18 18:00:13,33.30373383,-117.47036743,137.00000000,314.00000000\n",
      "2018-09-18 18:00:18,33.30493927,-117.47182465,139.00000000,314.00000000\n",
      "2018-09-18 18:00:23,33.30616379,-117.47331238,140.00000000,314.00000000\n",
      "2018-09-18 18:00:28,33.30736923,-117.47477722,137.00000000,314.00000000\n",
      "2018-09-18 18:00:33,33.30857468,-117.47623444,136.00000000,314.00000000\n",
      "2018-09-18 18:00:38,33.30973816,-117.47764587,131.00000000,314.00000000\n",
      "2018-09-18 18:00:43,33.31089020,-117.47905731,128.00000000,315.00000000\n",
      "2018-09-18 18:00:48,33.31206131,-117.48035431,128.00000000,321.00000000\n",
      "2018-09-18 18:00:53,33.31343079,-117.48131561,125.00000000,336.00000000\n",
      "2018-09-18 18:00:58,33.31492233,-117.48186493,125.00000000,348.00000000\n",
      "2018-09-18 18:01:03,33.31649017,-117.48204803,126.00000000,355.00000000\n",
      "2018-09-18 18:01:08,33.31804657,-117.48220062,125.00000000,355.00000000\n",
      "2018-09-18 18:01:13,33.31959915,-117.48238373,122.00000000,348.00000000\n",
      "2018-09-18 18:01:18,33.32108307,-117.48290253,122.00000000,338.00000000\n",
      "2018-09-18 18:01:23,33.32242966,-117.48377228,122.00000000,321.00000000\n",
      "2018-09-18 18:01:28,33.32357025,-117.48499298,122.00000000,312.00000000\n",
      "2018-09-18 18:01:33,33.32461929,-117.48643494,128.00000000,311.00000000\n",
      "2018-09-18 18:01:38,33.32567215,-117.48787689,127.00000000,310.00000000\n",
      "2018-09-18 18:01:43,33.32671356,-117.48931122,127.00000000,310.00000000\n",
      "2018-09-18 18:01:48,33.32776260,-117.49076080,126.00000000,310.00000000\n",
      "2018-09-18 18:01:53,33.32879257,-117.49216461,124.00000000,311.00000000\n",
      "2018-09-18 18:01:58,33.32981110,-117.49356842,125.00000000,311.00000000\n"
     ]
    }
   ],
   "source": [
    "typedef std::vector<ProbeTraits::Probe> Trajectory;\n",
    "Trajectory trajectory {\n",
    "    std::make_tuple(\"2018-09-18 17:59:53\",33.2991033,-117.4647513,126,314),\n",
    "    std::make_tuple(\"2018-09-18 17:59:58\",33.3002221,-117.4661122,129,314),\n",
    "    std::make_tuple(\"2018-09-18 18:00:03\",33.301378,-117.4675079,131,314),\n",
    "    std::make_tuple(\"2018-09-18 18:00:08\",33.3025396,-117.4689266,133,314),\n",
    "    std::make_tuple(\"2018-09-18 18:00:13\",33.3037329,-117.4703659,137,314),\n",
    "    std::make_tuple(\"2018-09-18 18:00:18\",33.3049375,-117.4718272,139,314),\n",
    "    std::make_tuple(\"2018-09-18 18:00:23\",33.3061619,-117.4733125,140,314),\n",
    "    std::make_tuple(\"2018-09-18 18:00:28\",33.3073684,-117.4747763,137,314),\n",
    "    std::make_tuple(\"2018-09-18 18:00:33\",33.3085757,-117.4762321,136,314),\n",
    "    std::make_tuple(\"2018-09-18 18:00:38\",33.3097395,-117.4776443,131,314),\n",
    "    std::make_tuple(\"2018-09-18 18:00:43\",33.3108899,-117.4790549,128,315),\n",
    "    std::make_tuple(\"2018-09-18 18:00:48\",33.3120626,-117.4803531,128,321),\n",
    "    std::make_tuple(\"2018-09-18 18:00:53\",33.3134304,-117.481313,125,336),\n",
    "    std::make_tuple(\"2018-09-18 18:00:58\",33.314922,-117.481867,125,348),\n",
    "    std::make_tuple(\"2018-09-18 18:01:03\",33.3164896,-117.4820446,126,355),\n",
    "    std::make_tuple(\"2018-09-18 18:01:08\",33.3180471,-117.4821974,125,355),\n",
    "    std::make_tuple(\"2018-09-18 18:01:13\",33.3196007,-117.48238,122,348),\n",
    "    std::make_tuple(\"2018-09-18 18:01:18\",33.3210833,-117.4829011,122,338),\n",
    "    std::make_tuple(\"2018-09-18 18:01:23\",33.3224285,-117.4837743,122,321),\n",
    "    std::make_tuple(\"2018-09-18 18:01:28\",33.3235694,-117.4849948,122,312),\n",
    "    std::make_tuple(\"2018-09-18 18:01:33\",33.3246209,-117.4864323,128,311),\n",
    "    std::make_tuple(\"2018-09-18 18:01:38\",33.3256706,-117.4878766,127,310),\n",
    "    std::make_tuple(\"2018-09-18 18:01:43\",33.3267136,-117.4893143,127,310),\n",
    "    std::make_tuple(\"2018-09-18 18:01:48\",33.3277619,-117.4907577,126,310),\n",
    "    std::make_tuple(\"2018-09-18 18:01:53\",33.3287917,-117.4921681,124,311),\n",
    "    std::make_tuple(\"2018-09-18 18:01:58\",33.3298129,-117.4935671,125,311)\n",
    "};\n",
    "\n",
    "for (auto& probe: trajectory){\n",
    "    print_tuple(std::cout, probe);\n",
    "    std::cout<<\"\\n\";\n",
    "}"
   ]
  },
  {
   "cell_type": "markdown",
   "metadata": {},
   "source": [
    "# Projection (Geo Coordinates -> Cartesian Coordinates)"
   ]
  },
  {
   "cell_type": "code",
   "execution_count": 5,
   "metadata": {},
   "outputs": [
    {
     "data": {
      "text/html": [
       "<style>\n",
       "            #pager-container {\n",
       "                padding: 0;\n",
       "                margin: 0;\n",
       "                width: 100%;\n",
       "                height: 100%;\n",
       "            }\n",
       "            .xcpp-iframe-pager {\n",
       "                padding: 0;\n",
       "                margin: 0;\n",
       "                width: 100%;\n",
       "                height: 100%;\n",
       "                border: none;\n",
       "            }\n",
       "            </style>\n",
       "            <iframe class=\"xcpp-iframe-pager\" src=\"http://192.168.99.100/movetk.reference/struct_local_coordinate_reference.html?action=purge\"></iframe>"
      ],
      "text/plain": [
       "http://192.168.99.100/movetk.reference/struct_local_coordinate_reference.html"
      ]
     },
     "metadata": {},
     "output_type": "execute_result"
    }
   ],
   "source": [
    "?LocalCoordinateReference"
   ]
  },
  {
   "cell_type": "code",
   "execution_count": 6,
   "metadata": {},
   "outputs": [
    {
     "name": "stdout",
     "output_type": "stream",
     "text": [
      "X,Y\n",
      "0.000000,0.000000\n",
      "-126.482516,123.964579\n",
      "-256.517912,252.160031\n",
      "-388.685035,381.201657\n",
      "-522.983886,513.627982\n",
      "-658.703889,647.323568\n",
      "-797.266196,783.134591\n",
      "-933.696775,916.830178\n",
      "-1069.416779,1050.525765\n",
      "-1200.873326,1179.567391\n",
      "-1332.329874,1307.339756\n",
      "-1453.127782,1437.227557\n",
      "-1542.660350,1589.115897\n",
      "-1593.821817,1754.543031\n",
      "-1610.875639,1928.431911\n",
      "-1625.087158,2101.051530\n",
      "-1642.140980,2273.248060\n",
      "-1690.460144,2437.829020\n",
      "-1771.465800,2587.178837\n",
      "-1885.157949,2713.681939\n",
      "-2019.456800,2830.030947\n",
      "-2153.755652,2946.803041\n",
      "-2287.343927,3062.305874\n",
      "-2422.353354,3178.654881\n",
      "-2553.099326,3292.888452\n",
      "-2683.845297,3405.852761\n"
     ]
    }
   ],
   "source": [
    "typedef std::vector<MovetkGeometryKernel::MovetkPoint> PolyLine;\n",
    "PolyLine polyline;\n",
    "movetk::geom::MakePoint<MovetkGeometryKernel> make_point;\n",
    "\n",
    "using Attributes = ProbeTraits::ProbeColumns;\n",
    "\n",
    "auto ref_lat = std::get<Attributes::LAT>(*std::cbegin(trajectory));\n",
    "auto ref_lon = std::get<Attributes::LON>(*std::cbegin(trajectory));\n",
    "LocalCoordinateReference<MovetkGeometryKernel::NT> ref(ref_lat, ref_lon);\n",
    "\n",
    "auto project = [&](ProbeTraits::Probe probe) -> MovetkGeometryKernel::MovetkPoint{\n",
    "    auto cartesian_coordinates =  ref.project(std::get<Attributes::LAT>(probe), \n",
    "                                              std::get<Attributes::LON>(probe));\n",
    "    return make_point(std::cbegin(cartesian_coordinates), std::cend(cartesian_coordinates));\n",
    "};\n",
    "\n",
    "std::transform(std::cbegin(trajectory), std::cend(trajectory), std::back_insert_iterator(polyline), project);\n",
    "\n",
    "std::cout<<\"X,Y\\n\";\n",
    "for(auto& point: polyline){\n",
    "    std::cout<<point<<\"\\n\";\n",
    "}"
   ]
  },
  {
   "cell_type": "markdown",
   "metadata": {},
   "source": [
    "# Date to Timestamp"
   ]
  },
  {
   "cell_type": "code",
   "execution_count": 7,
   "metadata": {},
   "outputs": [
    {
     "data": {
      "text/html": [
       "<style>\n",
       "            #pager-container {\n",
       "                padding: 0;\n",
       "                margin: 0;\n",
       "                width: 100%;\n",
       "                height: 100%;\n",
       "            }\n",
       "            .xcpp-iframe-pager {\n",
       "                padding: 0;\n",
       "                margin: 0;\n",
       "                width: 100%;\n",
       "                height: 100%;\n",
       "                border: none;\n",
       "            }\n",
       "            </style>\n",
       "            <iframe class=\"xcpp-iframe-pager\" src=\"http://192.168.99.100/movetk.reference/class_parse_date.html?action=purge\"></iframe>"
      ],
      "text/plain": [
       "http://192.168.99.100/movetk.reference/class_parse_date.html"
      ]
     },
     "metadata": {},
     "output_type": "execute_result"
    }
   ],
   "source": [
    "?ParseDate"
   ]
  },
  {
   "cell_type": "code",
   "execution_count": 8,
   "metadata": {},
   "outputs": [
    {
     "name": "stdout",
     "output_type": "stream",
     "text": [
      "TIMESTAMP\n",
      "1537293593\n",
      "1537293598\n",
      "1537293603\n",
      "1537293608\n",
      "1537293613\n",
      "1537293618\n",
      "1537293623\n",
      "1537293628\n",
      "1537293633\n",
      "1537293638\n",
      "1537293643\n",
      "1537293648\n",
      "1537293653\n",
      "1537293658\n",
      "1537293663\n",
      "1537293668\n",
      "1537293673\n",
      "1537293678\n",
      "1537293683\n",
      "1537293688\n",
      "1537293693\n",
      "1537293698\n",
      "1537293703\n",
      "1537293708\n",
      "1537293713\n",
      "1537293718\n"
     ]
    }
   ],
   "source": [
    "std::vector<ParseDate> timestamps;\n",
    "std::string date_format = \"%Y-%m-%d %H:%M:%S\";\n",
    "std::transform(std::cbegin(trajectory), std::cend(trajectory), std::back_insert_iterator(timestamps), \n",
    "              [&date_format](auto probe){\n",
    "                  std::istringstream is(std::get<ProbeTraits::ProbeColumns::SAMPLE_DATE>(probe));\n",
    "                  ParseDate dt(0, date_format);\n",
    "                  is >> dt;\n",
    "                  return dt;\n",
    "              });\n",
    "\n",
    "std::cout<<\"TIMESTAMP\\n\";\n",
    "for(auto& dt: timestamps){\n",
    "    std::cout<<dt.ts()<<\"\\n\";\n",
    "}"
   ]
  },
  {
   "cell_type": "markdown",
   "metadata": {},
   "source": [
    "# Calculate Tdiff"
   ]
  },
  {
   "cell_type": "code",
   "execution_count": 9,
   "metadata": {},
   "outputs": [
    {
     "data": {
      "text/html": [
       "<style>\n",
       "            #pager-container {\n",
       "                padding: 0;\n",
       "                margin: 0;\n",
       "                width: 100%;\n",
       "                height: 100%;\n",
       "            }\n",
       "            .xcpp-iframe-pager {\n",
       "                padding: 0;\n",
       "                margin: 0;\n",
       "                width: 100%;\n",
       "                height: 100%;\n",
       "                border: none;\n",
       "            }\n",
       "            </style>\n",
       "            <iframe class=\"xcpp-iframe-pager\" src=\"http://192.168.99.100/movetk.reference/namespacemovetk__core.html?action=purge\"></iframe>"
      ],
      "text/plain": [
       "http://192.168.99.100/movetk.reference/namespacemovetk__core.html"
      ]
     },
     "metadata": {},
     "output_type": "execute_result"
    }
   ],
   "source": [
    "?get_time_diffs"
   ]
  },
  {
   "cell_type": "code",
   "execution_count": 10,
   "metadata": {},
   "outputs": [
    {
     "name": "stdout",
     "output_type": "stream",
     "text": [
      "0\n",
      "5\n",
      "5\n",
      "5\n",
      "5\n",
      "5\n",
      "5\n",
      "5\n",
      "5\n",
      "5\n",
      "5\n",
      "5\n",
      "5\n",
      "5\n",
      "5\n",
      "5\n",
      "5\n",
      "5\n",
      "5\n",
      "5\n",
      "5\n",
      "5\n",
      "5\n",
      "5\n",
      "5\n",
      "5\n"
     ]
    }
   ],
   "source": [
    "{\n",
    "    std::vector<std::size_t> tdiff;\n",
    "    movetk::utils::get_time_diffs(std::begin(timestamps), std::end(timestamps), \n",
    "                                movetk::utils::movetk_back_insert_iterator(tdiff));\n",
    "    for (auto& i: tdiff){\n",
    "        std::cout<<i<<\"\\n\";\n",
    "    }\n",
    "}"
   ]
  },
  {
   "cell_type": "markdown",
   "metadata": {},
   "source": [
    "# Calculate Distances"
   ]
  },
  {
   "cell_type": "code",
   "execution_count": 11,
   "metadata": {},
   "outputs": [
    {
     "name": "stdout",
     "output_type": "stream",
     "text": [
      "0.00000000\n",
      "177.10178893\n",
      "182.60141833\n",
      "184.71570008\n",
      "188.60782841\n",
      "190.51096855\n",
      "194.02099600\n",
      "191.01783370\n",
      "190.51096855\n",
      "184.20794017\n",
      "183.32103264\n",
      "177.37805824\n",
      "176.31264457\n",
      "173.15782519\n",
      "174.72313952\n",
      "173.20363696\n",
      "173.03894971\n",
      "171.52735581\n",
      "169.90374956\n",
      "170.08509562\n",
      "177.68869679\n",
      "177.96601795\n",
      "176.59765481\n",
      "178.22636434\n",
      "173.61975061\n",
      "172.78728018\n"
     ]
    }
   ],
   "source": [
    "{\n",
    "    std::vector<MovetkGeometryKernel::NT> dist;\n",
    "    movetk::utils::get_distances<MovetkGeometryKernel>(std::begin(polyline), std::end(polyline), \n",
    "                                                     movetk::utils::movetk_back_insert_iterator(dist));\n",
    "    for (auto& i: dist){\n",
    "        std::cout<<i<<\"\\n\";\n",
    "    }\n",
    "}"
   ]
  },
  {
   "cell_type": "markdown",
   "metadata": {},
   "source": [
    "# Calculate Velocity"
   ]
  },
  {
   "cell_type": "code",
   "execution_count": 12,
   "metadata": {},
   "outputs": [
    {
     "name": "stdout",
     "output_type": "stream",
     "text": [
      "87.526954,-90.636815\n",
      "89.610929,-92.794835\n",
      "91.000246,-94.233514\n",
      "92.389563,-95.672194\n",
      "95.168196,-98.549553\n",
      "96.557513,-99.988233\n",
      "97.252171,-100.707573\n",
      "95.168196,-98.549553\n",
      "94.473538,-97.830213\n",
      "91.000246,-94.233514\n",
      "90.509667,-90.509669\n",
      "99.474683,-80.553011\n",
      "114.193182,-50.842081\n",
      "122.268450,-25.988962\n",
      "125.520532,-10.981624\n",
      "124.524337,-10.894469\n",
      "119.334007,-25.365227\n",
      "113.116430,-45.702005\n",
      "94.811807,-76.777088\n",
      "81.633933,-90.663669\n",
      "83.975555,-96.602827\n",
      "81.634026,-97.287645\n",
      "81.634026,-97.287645\n",
      "80.991238,-96.521600\n",
      "81.351319,-93.583988\n",
      "82.007378,-94.338698\n"
     ]
    }
   ],
   "source": [
    "{\n",
    "    std::vector<MovetkGeometryKernel::MovetkPoint> velocities;\n",
    "    std::vector<MovetkGeometryKernel::NT> speed;\n",
    "    std::vector<MovetkGeometryKernel::NT> heading;\n",
    "    \n",
    "    std::transform(std::begin(trajectory), std::end(trajectory), std::back_insert_iterator(speed),\n",
    "                  [](auto probe){\n",
    "                      return std::get<ProbeTraits::ProbeColumns::SPEED>(probe);\n",
    "                  });\n",
    "    \n",
    "    std::transform(std::begin(trajectory), std::end(trajectory), std::back_insert_iterator(heading),\n",
    "                  [](auto probe){\n",
    "                      return std::get<ProbeTraits::ProbeColumns::HEADING>(probe);\n",
    "                  });\n",
    "    \n",
    "    \n",
    "    movetk::utils::get_velocities<MovetkGeometryKernel>(std::begin(speed), std::end(speed),\n",
    "                                                      std::begin(heading),\n",
    "                                                      movetk::utils::movetk_back_insert_iterator(velocities));\n",
    "    for (auto& v: velocities){\n",
    "        std::cout<<v<<\"\\n\";\n",
    "    }\n",
    "}"
   ]
  },
  {
   "cell_type": "markdown",
   "metadata": {},
   "source": [
    "# Monotone Segmentation Algorithm"
   ]
  },
  {
   "cell_type": "code",
   "execution_count": 13,
   "metadata": {},
   "outputs": [
    {
     "data": {
      "text/html": [
       "<style>\n",
       "            #pager-container {\n",
       "                padding: 0;\n",
       "                margin: 0;\n",
       "                width: 100%;\n",
       "                height: 100%;\n",
       "            }\n",
       "            .xcpp-iframe-pager {\n",
       "                padding: 0;\n",
       "                margin: 0;\n",
       "                width: 100%;\n",
       "                height: 100%;\n",
       "                border: none;\n",
       "            }\n",
       "            </style>\n",
       "            <iframe class=\"xcpp-iframe-pager\" src=\"http://192.168.99.100/movetk.reference/structmovetk__algorithms_1_1_segmentation_traits.html?action=purge\"></iframe>"
      ],
      "text/plain": [
       "http://192.168.99.100/movetk.reference/structmovetk__algorithms_1_1_segmentation_traits.html"
      ]
     },
     "metadata": {},
     "output_type": "execute_result"
    }
   ],
   "source": [
    "?movetk::algo::SegmentationTraits"
   ]
  },
  {
   "cell_type": "code",
   "execution_count": 14,
   "metadata": {},
   "outputs": [
    {
     "data": {
      "text/html": [
       "<style>\n",
       "            #pager-container {\n",
       "                padding: 0;\n",
       "                margin: 0;\n",
       "                width: 100%;\n",
       "                height: 100%;\n",
       "            }\n",
       "            .xcpp-iframe-pager {\n",
       "                padding: 0;\n",
       "                margin: 0;\n",
       "                width: 100%;\n",
       "                height: 100%;\n",
       "                border: none;\n",
       "            }\n",
       "            </style>\n",
       "            <iframe class=\"xcpp-iframe-pager\" src=\"http://192.168.99.100/movetk.reference/classmovetk__algorithms_1_1_monotone_segmentation.html?action=purge\"></iframe>"
      ],
      "text/plain": [
       "http://192.168.99.100/movetk.reference/classmovetk__algorithms_1_1_monotone_segmentation.html"
      ]
     },
     "metadata": {},
     "output_type": "execute_result"
    }
   ],
   "source": [
    "?movetk::algo::MonotoneSegmentation"
   ]
  },
  {
   "cell_type": "code",
   "execution_count": 15,
   "metadata": {},
   "outputs": [
    {
     "data": {
      "text/html": [
       "<style>\n",
       "            #pager-container {\n",
       "                padding: 0;\n",
       "                margin: 0;\n",
       "                width: 100%;\n",
       "                height: 100%;\n",
       "            }\n",
       "            .xcpp-iframe-pager {\n",
       "                padding: 0;\n",
       "                margin: 0;\n",
       "                width: 100%;\n",
       "                height: 100%;\n",
       "                border: none;\n",
       "            }\n",
       "            </style>\n",
       "            <iframe class=\"xcpp-iframe-pager\" src=\"http://192.168.99.100/movetk.reference/classmovetk__algorithms_1_1_t_e_s_t.html?action=purge\"></iframe>"
      ],
      "text/plain": [
       "http://192.168.99.100/movetk.reference/classmovetk__algorithms_1_1_t_e_s_t.html"
      ]
     },
     "metadata": {},
     "output_type": "execute_result"
    }
   ],
   "source": [
    "?movetk::algo::TEST"
   ]
  },
  {
   "cell_type": "code",
   "execution_count": 16,
   "metadata": {},
   "outputs": [
    {
     "name": "stdout",
     "output_type": "stream",
     "text": [
      "=================================SEGMENTATION BY DISC CRITERIA===========================================================\n",
      "Number of segments: 4\n",
      "2018-09-18 17:59:53,33.29910278,-117.46475220,126.00000000,314.00000000,0\n",
      "2018-09-18 17:59:58,33.30022049,-117.46611023,129.00000000,314.00000000,0\n",
      "2018-09-18 18:00:03,33.30137634,-117.46750641,131.00000000,314.00000000,0\n",
      "2018-09-18 18:00:08,33.30253983,-117.46892548,133.00000000,314.00000000,0\n",
      "2018-09-18 18:00:13,33.30373383,-117.47036743,137.00000000,314.00000000,0\n",
      "2018-09-18 18:00:18,33.30493927,-117.47182465,139.00000000,314.00000000,0\n",
      "2018-09-18 18:00:23,33.30616379,-117.47331238,140.00000000,314.00000000,1\n",
      "2018-09-18 18:00:28,33.30736923,-117.47477722,137.00000000,314.00000000,1\n",
      "2018-09-18 18:00:33,33.30857468,-117.47623444,136.00000000,314.00000000,1\n",
      "2018-09-18 18:00:38,33.30973816,-117.47764587,131.00000000,314.00000000,1\n",
      "2018-09-18 18:00:43,33.31089020,-117.47905731,128.00000000,315.00000000,1\n",
      "2018-09-18 18:00:48,33.31206131,-117.48035431,128.00000000,321.00000000,1\n",
      "2018-09-18 18:00:53,33.31343079,-117.48131561,125.00000000,336.00000000,2\n",
      "2018-09-18 18:00:58,33.31492233,-117.48186493,125.00000000,348.00000000,2\n",
      "2018-09-18 18:01:03,33.31649017,-117.48204803,126.00000000,355.00000000,2\n",
      "2018-09-18 18:01:08,33.31804657,-117.48220062,125.00000000,355.00000000,2\n",
      "2018-09-18 18:01:13,33.31959915,-117.48238373,122.00000000,348.00000000,2\n",
      "2018-09-18 18:01:18,33.32108307,-117.48290253,122.00000000,338.00000000,2\n",
      "2018-09-18 18:01:23,33.32242966,-117.48377228,122.00000000,321.00000000,3\n",
      "2018-09-18 18:01:28,33.32357025,-117.48499298,122.00000000,312.00000000,3\n",
      "2018-09-18 18:01:33,33.32461929,-117.48643494,128.00000000,311.00000000,3\n",
      "2018-09-18 18:01:38,33.32567215,-117.48787689,127.00000000,310.00000000,3\n",
      "2018-09-18 18:01:43,33.32671356,-117.48931122,127.00000000,310.00000000,3\n",
      "2018-09-18 18:01:48,33.32776260,-117.49076080,126.00000000,310.00000000,3\n",
      "2018-09-18 18:01:53,33.32879257,-117.49216461,124.00000000,311.00000000,4\n",
      "2018-09-18 18:01:58,33.32981110,-117.49356842,125.00000000,311.00000000,4\n",
      "\n",
      "==========================================SEGMENTATION BY DIFFERENCE CRITERIA==================================================\n",
      "Number of segments: 1\n",
      "2018-09-18 17:59:53,33.29910278,-117.46475220,126.00000000,314.00000000,0\n",
      "2018-09-18 17:59:58,33.30022049,-117.46611023,129.00000000,314.00000000,0\n",
      "2018-09-18 18:00:03,33.30137634,-117.46750641,131.00000000,314.00000000,0\n",
      "2018-09-18 18:00:08,33.30253983,-117.46892548,133.00000000,314.00000000,0\n",
      "2018-09-18 18:00:13,33.30373383,-117.47036743,137.00000000,314.00000000,0\n",
      "2018-09-18 18:00:18,33.30493927,-117.47182465,139.00000000,314.00000000,0\n",
      "2018-09-18 18:00:23,33.30616379,-117.47331238,140.00000000,314.00000000,0\n",
      "2018-09-18 18:00:28,33.30736923,-117.47477722,137.00000000,314.00000000,0\n",
      "2018-09-18 18:00:33,33.30857468,-117.47623444,136.00000000,314.00000000,0\n",
      "2018-09-18 18:00:38,33.30973816,-117.47764587,131.00000000,314.00000000,0\n",
      "2018-09-18 18:00:43,33.31089020,-117.47905731,128.00000000,315.00000000,0\n",
      "2018-09-18 18:00:48,33.31206131,-117.48035431,128.00000000,321.00000000,0\n",
      "2018-09-18 18:00:53,33.31343079,-117.48131561,125.00000000,336.00000000,0\n",
      "2018-09-18 18:00:58,33.31492233,-117.48186493,125.00000000,348.00000000,0\n",
      "2018-09-18 18:01:03,33.31649017,-117.48204803,126.00000000,355.00000000,0\n",
      "2018-09-18 18:01:08,33.31804657,-117.48220062,125.00000000,355.00000000,0\n",
      "2018-09-18 18:01:13,33.31959915,-117.48238373,122.00000000,348.00000000,0\n",
      "2018-09-18 18:01:18,33.32108307,-117.48290253,122.00000000,338.00000000,0\n",
      "2018-09-18 18:01:23,33.32242966,-117.48377228,122.00000000,321.00000000,0\n",
      "2018-09-18 18:01:28,33.32357025,-117.48499298,122.00000000,312.00000000,0\n",
      "2018-09-18 18:01:33,33.32461929,-117.48643494,128.00000000,311.00000000,1\n",
      "2018-09-18 18:01:38,33.32567215,-117.48787689,127.00000000,310.00000000,1\n",
      "2018-09-18 18:01:43,33.32671356,-117.48931122,127.00000000,310.00000000,1\n",
      "2018-09-18 18:01:48,33.32776260,-117.49076080,126.00000000,310.00000000,1\n",
      "2018-09-18 18:01:53,33.32879257,-117.49216461,124.00000000,311.00000000,1\n",
      "2018-09-18 18:01:58,33.32981110,-117.49356842,125.00000000,311.00000000,1\n",
      "\n",
      "==========================================COMBINING CRITERIA (CONJUNCTION)==================================================\n",
      "2018-09-18 17:59:53,33.29910278,-117.46475220,126.00000000,314.00000000,0\n",
      "2018-09-18 17:59:58,33.30022049,-117.46611023,129.00000000,314.00000000,0\n",
      "2018-09-18 18:00:03,33.30137634,-117.46750641,131.00000000,314.00000000,0\n",
      "2018-09-18 18:00:08,33.30253983,-117.46892548,133.00000000,314.00000000,0\n",
      "2018-09-18 18:00:13,33.30373383,-117.47036743,137.00000000,314.00000000,0\n",
      "2018-09-18 18:00:18,33.30493927,-117.47182465,139.00000000,314.00000000,0\n",
      "2018-09-18 18:00:23,33.30616379,-117.47331238,140.00000000,314.00000000,1\n",
      "2018-09-18 18:00:28,33.30736923,-117.47477722,137.00000000,314.00000000,1\n",
      "2018-09-18 18:00:33,33.30857468,-117.47623444,136.00000000,314.00000000,1\n",
      "2018-09-18 18:00:38,33.30973816,-117.47764587,131.00000000,314.00000000,1\n",
      "2018-09-18 18:00:43,33.31089020,-117.47905731,128.00000000,315.00000000,1\n",
      "2018-09-18 18:00:48,33.31206131,-117.48035431,128.00000000,321.00000000,1\n",
      "2018-09-18 18:00:53,33.31343079,-117.48131561,125.00000000,336.00000000,2\n",
      "2018-09-18 18:00:58,33.31492233,-117.48186493,125.00000000,348.00000000,2\n",
      "2018-09-18 18:01:03,33.31649017,-117.48204803,126.00000000,355.00000000,2\n",
      "2018-09-18 18:01:08,33.31804657,-117.48220062,125.00000000,355.00000000,2\n",
      "2018-09-18 18:01:13,33.31959915,-117.48238373,122.00000000,348.00000000,2\n",
      "2018-09-18 18:01:18,33.32108307,-117.48290253,122.00000000,338.00000000,2\n",
      "2018-09-18 18:01:23,33.32242966,-117.48377228,122.00000000,321.00000000,3\n",
      "2018-09-18 18:01:28,33.32357025,-117.48499298,122.00000000,312.00000000,3\n",
      "2018-09-18 18:01:33,33.32461929,-117.48643494,128.00000000,311.00000000,4\n",
      "2018-09-18 18:01:38,33.32567215,-117.48787689,127.00000000,310.00000000,4\n",
      "2018-09-18 18:01:43,33.32671356,-117.48931122,127.00000000,310.00000000,4\n",
      "2018-09-18 18:01:48,33.32776260,-117.49076080,126.00000000,310.00000000,4\n",
      "2018-09-18 18:01:53,33.32879257,-117.49216461,124.00000000,311.00000000,5\n",
      "2018-09-18 18:01:58,33.32981110,-117.49356842,125.00000000,311.00000000,5\n",
      "\n",
      "==========================================COMBINING CRITERIA (DISJUNCTION)==================================================\n",
      "2018-09-18 17:59:53,33.29910278,-117.46475220,126.00000000,314.00000000,0\n",
      "2018-09-18 17:59:58,33.30022049,-117.46611023,129.00000000,314.00000000,0\n",
      "2018-09-18 18:00:03,33.30137634,-117.46750641,131.00000000,314.00000000,0\n",
      "2018-09-18 18:00:08,33.30253983,-117.46892548,133.00000000,314.00000000,0\n",
      "2018-09-18 18:00:13,33.30373383,-117.47036743,137.00000000,314.00000000,0\n",
      "2018-09-18 18:00:18,33.30493927,-117.47182465,139.00000000,314.00000000,0\n",
      "2018-09-18 18:00:23,33.30616379,-117.47331238,140.00000000,314.00000000,0\n",
      "2018-09-18 18:00:28,33.30736923,-117.47477722,137.00000000,314.00000000,0\n",
      "2018-09-18 18:00:33,33.30857468,-117.47623444,136.00000000,314.00000000,0\n",
      "2018-09-18 18:00:38,33.30973816,-117.47764587,131.00000000,314.00000000,0\n",
      "2018-09-18 18:00:43,33.31089020,-117.47905731,128.00000000,315.00000000,0\n",
      "2018-09-18 18:00:48,33.31206131,-117.48035431,128.00000000,321.00000000,0\n",
      "2018-09-18 18:00:53,33.31343079,-117.48131561,125.00000000,336.00000000,0\n",
      "2018-09-18 18:00:58,33.31492233,-117.48186493,125.00000000,348.00000000,0\n",
      "2018-09-18 18:01:03,33.31649017,-117.48204803,126.00000000,355.00000000,0\n",
      "2018-09-18 18:01:08,33.31804657,-117.48220062,125.00000000,355.00000000,0\n",
      "2018-09-18 18:01:13,33.31959915,-117.48238373,122.00000000,348.00000000,0\n",
      "2018-09-18 18:01:18,33.32108307,-117.48290253,122.00000000,338.00000000,0\n",
      "2018-09-18 18:01:23,33.32242966,-117.48377228,122.00000000,321.00000000,0\n",
      "2018-09-18 18:01:28,33.32357025,-117.48499298,122.00000000,312.00000000,0\n",
      "2018-09-18 18:01:33,33.32461929,-117.48643494,128.00000000,311.00000000,1\n",
      "2018-09-18 18:01:38,33.32567215,-117.48787689,127.00000000,310.00000000,1\n",
      "2018-09-18 18:01:43,33.32671356,-117.48931122,127.00000000,310.00000000,1\n",
      "2018-09-18 18:01:48,33.32776260,-117.49076080,126.00000000,310.00000000,1\n",
      "2018-09-18 18:01:53,33.32879257,-117.49216461,124.00000000,311.00000000,1\n",
      "2018-09-18 18:01:58,33.32981110,-117.49356842,125.00000000,311.00000000,1\n"
     ]
    }
   ],
   "source": [
    "{\n",
    "     StartStopDiagram  ssd_ts, ssd_location;\n",
    "     StartStopDiagram  conjunction, disjunction ;\n",
    "    \n",
    "    std::cout << \"=================================SEGMENTATION BY DISC CRITERIA===========================================================\\n\";\n",
    "    {\n",
    "        SegmentationTraits::LocationSegmentation segment_by_meb(500);\n",
    "    \n",
    "        std::vector<PolyLine::const_iterator> segIdx;\n",
    "    \n",
    "        segment_by_meb(std::cbegin(polyline), std::cend(polyline), movetk::utils::movetk_back_insert_iterator(segIdx));\n",
    "    \n",
    "        std::cout << \"Number of segments: \"<< segIdx.size()<<\"\\n\";\n",
    "    \n",
    "        movetk::utils::SegmentIdGenerator make_segment(std::begin(segIdx), std::end(segIdx));\n",
    "        \n",
    "        ssd_location(std::begin(polyline), std::end(polyline), make_segment);\n",
    "    \n",
    "        auto tit = std::begin(trajectory);\n",
    "    \n",
    "        for (auto plit = std::begin(polyline); plit != std::end(polyline); ++plit, tit++) {\n",
    "            auto id = make_segment.getSegmentID(plit);\n",
    "            print_tuple(std::cout,*tit);\n",
    "            std::cout<<\",\"<<id<<\"\\n\";\n",
    "        }\n",
    "    }  \n",
    "    \n",
    "    std::cout << \"\\n==========================================SEGMENTATION BY DIFFERENCE CRITERIA==================================================\\n\";\n",
    "    {\n",
    "        SegmentationTraits::TSSegmentation segment_by_time(100);\n",
    "        \n",
    "        typedef std::vector<std::size_t> TS;\n",
    "        TS ts;\n",
    "\n",
    "        //TODO FIX THIS\n",
    "        std::transform(std::begin(timestamps), std::end(timestamps), std::back_insert_iterator(ts),\n",
    "                      [](auto i){\n",
    "                        return i.ts();  \n",
    "                      });\n",
    "        \n",
    "        std::vector<TS::const_iterator> segIdx;\n",
    "        \n",
    "\n",
    "        segment_by_time(std::cbegin(ts), std::cend(ts), movetk::utils::movetk_back_insert_iterator(segIdx));\n",
    "\n",
    "        std::cout << \"Number of segments: \"<< segIdx.size()<<\"\\n\";\n",
    "\n",
    "        movetk::utils::SegmentIdGenerator make_segment(std::begin(segIdx), std::end(segIdx));\n",
    "        \n",
    "        ssd_ts(std::begin(ts), std::end(ts), make_segment);\n",
    "\n",
    "        auto tit = std::begin(trajectory);\n",
    "\n",
    "        for (auto plit = std::begin(ts); plit != std::end(ts); ++plit, tit++) {\n",
    "                auto id = make_segment.getSegmentID(plit);\n",
    "                print_tuple(std::cout,*tit);\n",
    "                std::cout<<\",\"<<id<<\"\\n\";\n",
    "        }\n",
    "\n",
    "    }\n",
    "    \n",
    "    std::cout << \"\\n==========================================COMBINING CRITERIA (CONJUNCTION)==================================================\\n\";\n",
    "    {\n",
    "        conjunction = ssd_location * ssd_ts;\n",
    "       \n",
    "        StartStopDiagram::const_iterator cit = conjunction.cbegin();\n",
    "\n",
    "        StartStopDiagram::const_iterator pit = cit;\n",
    "\n",
    "        size_t id = 0;\n",
    "\n",
    "        auto tit = std::begin(trajectory);\n",
    "\n",
    "        while (cit != conjunction.cend()) {\n",
    "            if (!movetk::utils::is_sequence(pit, (cit + 1))) {\n",
    "                id++;\n",
    "                pit = cit;\n",
    "            }\n",
    "            print_tuple(std::cout,*tit);\n",
    "            std::cout<<\",\"<<id<<\"\\n\";\n",
    "            cit++;tit++;\n",
    "        }\n",
    "        \n",
    "    }\n",
    "\n",
    "    \n",
    "    std::cout << \"\\n==========================================COMBINING CRITERIA (DISJUNCTION)==================================================\\n\";\n",
    "    {\n",
    "        disjunction = ssd_location + ssd_ts;\n",
    "       \n",
    "        StartStopDiagram::const_iterator cit = disjunction.cbegin();\n",
    "\n",
    "        StartStopDiagram::const_iterator pit = cit;\n",
    "\n",
    "        size_t id = 0;\n",
    "\n",
    "        auto tit = std::begin(trajectory);\n",
    "\n",
    "        while (cit != disjunction.cend()) {\n",
    "            if (!movetk::utils::is_sequence(pit, (cit + 1))) {\n",
    "                id++;\n",
    "                pit = cit;\n",
    "            }\n",
    "            print_tuple(std::cout,*tit);\n",
    "            std::cout<<\",\"<<id<<\"\\n\";\n",
    "            cit++;tit++;\n",
    "        }\n",
    "        \n",
    "    }\n",
    "\n",
    "\n",
    "}"
   ]
  },
  {
   "cell_type": "markdown",
   "metadata": {},
   "source": [
    "# Model Based Segmentation Algorithm"
   ]
  },
  {
   "cell_type": "code",
   "execution_count": 17,
   "metadata": {},
   "outputs": [
    {
     "data": {
      "text/html": [
       "<style>\n",
       "            #pager-container {\n",
       "                padding: 0;\n",
       "                margin: 0;\n",
       "                width: 100%;\n",
       "                height: 100%;\n",
       "            }\n",
       "            .xcpp-iframe-pager {\n",
       "                padding: 0;\n",
       "                margin: 0;\n",
       "                width: 100%;\n",
       "                height: 100%;\n",
       "                border: none;\n",
       "            }\n",
       "            </style>\n",
       "            <iframe class=\"xcpp-iframe-pager\" src=\"http://192.168.99.100/movetk.reference/structmovetk__algorithms_1_1brownian__bridge_1_1_parameter_traits.html?action=purge\"></iframe>"
      ],
      "text/plain": [
       "http://192.168.99.100/movetk.reference/structmovetk__algorithms_1_1brownian__bridge_1_1_parameter_traits.html"
      ]
     },
     "metadata": {},
     "output_type": "execute_result"
    }
   ],
   "source": [
    "?movetk::algo::brownian_bridge::ParameterTraits"
   ]
  },
  {
   "cell_type": "code",
   "execution_count": 18,
   "metadata": {},
   "outputs": [
    {
     "data": {
      "text/html": [
       "<style>\n",
       "            #pager-container {\n",
       "                padding: 0;\n",
       "                margin: 0;\n",
       "                width: 100%;\n",
       "                height: 100%;\n",
       "            }\n",
       "            .xcpp-iframe-pager {\n",
       "                padding: 0;\n",
       "                margin: 0;\n",
       "                width: 100%;\n",
       "                height: 100%;\n",
       "                border: none;\n",
       "            }\n",
       "            </style>\n",
       "            <iframe class=\"xcpp-iframe-pager\" src=\"http://192.168.99.100/movetk.reference/classmovetk__algorithms_1_1brownian__bridge_1_1_model.html?action=purge\"></iframe>"
      ],
      "text/plain": [
       "http://192.168.99.100/movetk.reference/classmovetk__algorithms_1_1brownian__bridge_1_1_model.html"
      ]
     },
     "metadata": {},
     "output_type": "execute_result"
    }
   ],
   "source": [
    "?movetk::algo::brownian_bridge::Model"
   ]
  },
  {
   "cell_type": "code",
   "execution_count": 19,
   "metadata": {},
   "outputs": [
    {
     "data": {
      "text/html": [
       "<style>\n",
       "            #pager-container {\n",
       "                padding: 0;\n",
       "                margin: 0;\n",
       "                width: 100%;\n",
       "                height: 100%;\n",
       "            }\n",
       "            .xcpp-iframe-pager {\n",
       "                padding: 0;\n",
       "                margin: 0;\n",
       "                width: 100%;\n",
       "                height: 100%;\n",
       "                border: none;\n",
       "            }\n",
       "            </style>\n",
       "            <iframe class=\"xcpp-iframe-pager\" src=\"http://192.168.99.100/movetk.reference/classmovetk__algorithms_1_1brownian__bridge_1_1_m_l_e.html?action=purge\"></iframe>"
      ],
      "text/plain": [
       "http://192.168.99.100/movetk.reference/classmovetk__algorithms_1_1brownian__bridge_1_1_m_l_e.html"
      ]
     },
     "metadata": {},
     "output_type": "execute_result"
    }
   ],
   "source": [
    "?movetk::algo::brownian_bridge::MLE"
   ]
  },
  {
   "cell_type": "code",
   "execution_count": 20,
   "metadata": {},
   "outputs": [
    {
     "data": {
      "text/html": [
       "<style>\n",
       "            #pager-container {\n",
       "                padding: 0;\n",
       "                margin: 0;\n",
       "                width: 100%;\n",
       "                height: 100%;\n",
       "            }\n",
       "            .xcpp-iframe-pager {\n",
       "                padding: 0;\n",
       "                margin: 0;\n",
       "                width: 100%;\n",
       "                height: 100%;\n",
       "                border: none;\n",
       "            }\n",
       "            </style>\n",
       "            <iframe class=\"xcpp-iframe-pager\" src=\"http://192.168.99.100/movetk.reference/classmovetk__algorithms_1_1brownian__bridge_1_1_parameter_selector.html?action=purge\"></iframe>"
      ],
      "text/plain": [
       "http://192.168.99.100/movetk.reference/classmovetk__algorithms_1_1brownian__bridge_1_1_parameter_selector.html"
      ]
     },
     "metadata": {},
     "output_type": "execute_result"
    }
   ],
   "source": [
    "?movetk::algo::brownian_bridge::ParameterSelector"
   ]
  },
  {
   "cell_type": "code",
   "execution_count": 21,
   "metadata": {},
   "outputs": [
    {
     "data": {
      "text/html": [
       "<style>\n",
       "            #pager-container {\n",
       "                padding: 0;\n",
       "                margin: 0;\n",
       "                width: 100%;\n",
       "                height: 100%;\n",
       "            }\n",
       "            .xcpp-iframe-pager {\n",
       "                padding: 0;\n",
       "                margin: 0;\n",
       "                width: 100%;\n",
       "                height: 100%;\n",
       "                border: none;\n",
       "            }\n",
       "            </style>\n",
       "            <iframe class=\"xcpp-iframe-pager\" src=\"http://192.168.99.100/movetk.reference/classmovetk__algorithms_1_1brownian__bridge_1_1_log_likelihood.html?action=purge\"></iframe>"
      ],
      "text/plain": [
       "http://192.168.99.100/movetk.reference/classmovetk__algorithms_1_1brownian__bridge_1_1_log_likelihood.html"
      ]
     },
     "metadata": {},
     "output_type": "execute_result"
    }
   ],
   "source": [
    "?movetk::algo::brownian_bridge::LogLikelihood"
   ]
  },
  {
   "cell_type": "code",
   "execution_count": 22,
   "metadata": {},
   "outputs": [
    {
     "data": {
      "text/html": [
       "<style>\n",
       "            #pager-container {\n",
       "                padding: 0;\n",
       "                margin: 0;\n",
       "                width: 100%;\n",
       "                height: 100%;\n",
       "            }\n",
       "            .xcpp-iframe-pager {\n",
       "                padding: 0;\n",
       "                margin: 0;\n",
       "                width: 100%;\n",
       "                height: 100%;\n",
       "                border: none;\n",
       "            }\n",
       "            </style>\n",
       "            <iframe class=\"xcpp-iframe-pager\" src=\"http://192.168.99.100/movetk.reference/classmovetk__algorithms_1_1_model_based_segmentation.html?action=purge\"></iframe>"
      ],
      "text/plain": [
       "http://192.168.99.100/movetk.reference/classmovetk__algorithms_1_1_model_based_segmentation.html"
      ]
     },
     "metadata": {},
     "output_type": "execute_result"
    }
   ],
   "source": [
    "?movetk::algo::ModelBasedSegmentation"
   ]
  },
  {
   "cell_type": "code",
   "execution_count": 23,
   "metadata": {},
   "outputs": [
    {
     "name": "stdout",
     "output_type": "stream",
     "text": [
      "MLE of the Trajectory: 44.41185933\n",
      "Bridges: \n",
      "POINT,MU,SIGMA_SQUARED\n",
      "-126.482516,123.964579,-128.258956,126.080015,3.81540503\n",
      "-388.685035,381.201657,-389.750899,382.894006,2.00005583\n",
      "-658.703889,647.323568,-660.125041,648.381287,1.56922026\n",
      "-933.696775,916.830178,-933.341487,916.830178,0.06311477\n",
      "-1200.873326,1179.567391,-1200.873326,1178.932760,0.20137822\n",
      "-1453.127782,1437.227557,-1437.495112,1448.227826,182.69316145\n",
      "-1593.821817,1754.543031,-1576.767994,1758.773904,154.36657207\n",
      "-1625.087158,2101.051530,-1626.508310,2100.839986,1.03221167\n",
      "-1690.460144,2437.829020,-1706.803390,2430.213449,162.54931606\n",
      "-1885.157949,2713.681939,-1895.461300,2708.604892,65.96772728\n",
      "-2153.755652,2946.803041,-2153.400364,2946.168410,0.26449299\n",
      "-2422.353354,3178.654881,-2420.221626,3177.597163,2.83151565\n",
      "-2618.472312,3349.370607,-2618.472312,3349.370607,0.00001000\n",
      " Running coefficient selector to select 5 coefficients: \n",
      " Selected Coefficient: 0.00001000\n",
      " Selected Coefficient: 0.06311477\n",
      " Selected Coefficient: 0.20137822\n",
      " Selected Coefficient: 0.26449299\n",
      " Selected Coefficient: 1.03221167\n",
      " Selected Coefficient: 1.56922026\n",
      " Selected Coefficient: 2.00005583\n",
      " Selected Coefficient: 2.83151565\n",
      " Selected Coefficient: 3.81540503\n",
      " Selected Coefficient: 65.96772728\n",
      "Segmentation with high penalty factor p = 1 \n",
      "Segments: \n",
      "1537293593,33.29910278,-117.46475220,0\n",
      "1537293598,33.30022049,-117.46611023,0\n",
      "1537293603,33.30137634,-117.46750641,0\n",
      "1537293608,33.30253983,-117.46892548,0\n",
      "1537293613,33.30373383,-117.47036743,0\n",
      "1537293618,33.30493927,-117.47182465,0\n",
      "1537293623,33.30616379,-117.47331238,0\n",
      "1537293628,33.30736923,-117.47477722,0\n",
      "1537293633,33.30857468,-117.47623444,0\n",
      "1537293638,33.30973816,-117.47764587,0\n",
      "1537293643,33.31089020,-117.47905731,0\n",
      "1537293648,33.31206131,-117.48035431,0\n",
      "1537293653,33.31343079,-117.48131561,0\n",
      "1537293658,33.31492233,-117.48186493,0\n",
      "1537293663,33.31649017,-117.48204803,0\n",
      "1537293668,33.31804657,-117.48220062,0\n",
      "1537293673,33.31959915,-117.48238373,0\n",
      "1537293678,33.32108307,-117.48290253,0\n",
      "1537293683,33.32242966,-117.48377228,0\n",
      "1537293688,33.32357025,-117.48499298,0\n",
      "1537293693,33.32461929,-117.48643494,0\n",
      "1537293698,33.32567215,-117.48787689,0\n",
      "1537293703,33.32671356,-117.48931122,0\n",
      "1537293708,33.32776260,-117.49076080,0\n",
      "1537293713,33.32879257,-117.49216461,0\n"
     ]
    }
   ],
   "source": [
    "{\n",
    "   \n",
    "    struct _ProbeTraits{\n",
    "  \n",
    "        enum ProbeColumns{\n",
    "          SAMPLE_DATE, LAT, LON, SPEED, HEADING\n",
    "        }; \n",
    "    \n",
    "       typedef std::tuple<std::size_t, float, float, float, float>  Probe;\n",
    "    };\n",
    "    \n",
    "    typedef std::vector<_ProbeTraits::Probe> _Trajectory;\n",
    "    typedef BBMMTraits<MovetkGeometryKernel, Norm, _Trajectory::iterator, _ProbeTraits> BBMMTraits;\n",
    "    \n",
    "    _Trajectory traj;\n",
    "    \n",
    "    typedef std::vector<typename BBMMTraits::ParameterTraits::Parameters> Bridges;\n",
    "    Bridges bridges;\n",
    "    std::vector<MovetkGeometryKernel::NT> selected_coeffs;\n",
    "    std::vector<Bridges::const_iterator> segments;\n",
    "    \n",
    "    using Columns = BBMMTraits::ParameterTraits::ParameterColumns;\n",
    "    Norm norm;\n",
    "    \n",
    "    \n",
    "    {\n",
    "        std::transform(std::begin(trajectory), std::end(trajectory), std::back_insert_iterator(traj),\n",
    "                      [](auto probe){\n",
    "                          std::istringstream is(std::get<ProbeTraits::ProbeColumns::SAMPLE_DATE>(probe));\n",
    "                          ParseDate dt(0, date_format);\n",
    "                          is >> dt;\n",
    "                          return std::make_tuple(dt.ts(), std::get<ProbeTraits::ProbeColumns::LAT>(probe),\n",
    "                                  std::get<ProbeTraits::ProbeColumns::LON>(probe),\n",
    "                                  std::get<ProbeTraits::ProbeColumns::SPEED>(probe),\n",
    "                                  std::get<ProbeTraits::ProbeColumns::HEADING>(probe));\n",
    "                      });\n",
    "    }  \n",
    "    \n",
    "   \n",
    "    {\n",
    "        typename BBMMTraits::BBMM  bb(traj.begin(), traj.end(), movetk::utils::movetk_back_insert_iterator(bridges));\n",
    "        typename BBMMTraits::MLE mle(std::cbegin(bridges), std::cend(bridges));\n",
    "        std::cout<<\"MLE of the Trajectory: \"<<mle()<<\"\\n\";\n",
    "        \n",
    "        auto bit = begin(bridges);\n",
    "        while(bit != end(bridges)){\n",
    "            typename BBMMTraits::MLE mle(bit, bit+1);\n",
    "            std::get<Columns::SIGMA_SQUARED>(*bit) = mle();\n",
    "            bit++;\n",
    "        }\n",
    "\n",
    "    }\n",
    "    \n",
    "    {\n",
    "        std::cout<<\"Bridges: \"<<\"\\n\";\n",
    "        std::cout<<\"POINT,MU,SIGMA_SQUARED\\n\";\n",
    "        for (auto& bridge: bridges){\n",
    "            std::cout<< std::get<Columns::POINT>(bridge)<<\",\";\n",
    "            std::cout<< std::get<Columns::MU>(bridge)<<\",\";\n",
    "            std::cout<< std::get<Columns::SIGMA_SQUARED>(bridge);\n",
    "            std::cout<<\"\\n\";\n",
    "        }\n",
    "    }\n",
    "    \n",
    "    {\n",
    "        std::cout<<\" Running coefficient selector to select 5 coefficients: \\n\";\n",
    "        typename BBMMTraits::ParameterSelector selector(10);\n",
    "        selector(std::cbegin(bridges), std::cend(bridges), movetk::utils::movetk_back_insert_iterator(selected_coeffs));\n",
    "    }\n",
    "    \n",
    "    \n",
    "    {\n",
    "         for (auto coeff: selected_coeffs){\n",
    "            std::cout<<\" Selected Coefficient: \"<<coeff<<\"\\n\";\n",
    "        }\n",
    "    }\n",
    "\n",
    "    {\n",
    "        std::cout<<\"Segmentation with high penalty factor p = 1 \\n\";\n",
    "        typename BBMMTraits::ModelBasedSegmentation segmentation(1);\n",
    "        segmentation(std::cbegin(bridges), std::cend(bridges), std::cbegin(selected_coeffs), std::cend(selected_coeffs),\n",
    "                 movetk::utils::movetk_back_insert_iterator(segments));\n",
    "    }\n",
    "    \n",
    "    {\n",
    "        movetk::utils::SegmentIdGenerator make_segment(std::begin(segments), std::end(segments));\n",
    "        std::cout<<\"Segments: \\n\";\n",
    "        auto bit = std::begin(bridges);\n",
    "        std::size_t id = 0;\n",
    "        while (bit != std::end(bridges)){\n",
    "            auto first = std::get<Columns::BEGIN>(*bit);\n",
    "            auto beyond = std::get<Columns::END>(*bit);\n",
    "            auto it = first;\n",
    "            while (it != beyond){\n",
    "                std::cout<<std::get<0>(*it)<<\",\"<<std::get<1>(*it)<<\",\"<<std::get<2>(*it)<<\",\"<<id<<\"\\n\";\n",
    "                it++;\n",
    "            }\n",
    "            id = make_segment.getSegmentID(bit);\n",
    "            bit++;\n",
    "        }\n",
    "    }\n",
    "\n",
    "    \n",
    "    \n",
    "}"
   ]
  },
  {
   "cell_type": "markdown",
   "metadata": {},
   "source": [
    "# Douglas-Peucker Simplification "
   ]
  },
  {
   "cell_type": "code",
   "execution_count": 24,
   "metadata": {},
   "outputs": [
    {
     "data": {
      "text/html": [
       "<style>\n",
       "            #pager-container {\n",
       "                padding: 0;\n",
       "                margin: 0;\n",
       "                width: 100%;\n",
       "                height: 100%;\n",
       "            }\n",
       "            .xcpp-iframe-pager {\n",
       "                padding: 0;\n",
       "                margin: 0;\n",
       "                width: 100%;\n",
       "                height: 100%;\n",
       "                border: none;\n",
       "            }\n",
       "            </style>\n",
       "            <iframe class=\"xcpp-iframe-pager\" src=\"http://192.168.99.100/movetk.reference/structmovetk__algorithms_1_1_find_farthest.html?action=purge\"></iframe>"
      ],
      "text/plain": [
       "http://192.168.99.100/movetk.reference/structmovetk__algorithms_1_1_find_farthest.html"
      ]
     },
     "metadata": {},
     "output_type": "execute_result"
    }
   ],
   "source": [
    "?movetk::algo::FindFarthest"
   ]
  },
  {
   "cell_type": "code",
   "execution_count": 25,
   "metadata": {},
   "outputs": [
    {
     "data": {
      "text/html": [
       "<style>\n",
       "            #pager-container {\n",
       "                padding: 0;\n",
       "                margin: 0;\n",
       "                width: 100%;\n",
       "                height: 100%;\n",
       "            }\n",
       "            .xcpp-iframe-pager {\n",
       "                padding: 0;\n",
       "                margin: 0;\n",
       "                width: 100%;\n",
       "                height: 100%;\n",
       "                border: none;\n",
       "            }\n",
       "            </style>\n",
       "            <iframe class=\"xcpp-iframe-pager\" src=\"http://192.168.99.100/movetk.reference/classmovetk__algorithms_1_1_douglas_peucker.html?action=purge\"></iframe>"
      ],
      "text/plain": [
       "http://192.168.99.100/movetk.reference/classmovetk__algorithms_1_1_douglas_peucker.html"
      ]
     },
     "metadata": {},
     "output_type": "execute_result"
    }
   ],
   "source": [
    "?movetk::algo::DouglasPeucker"
   ]
  },
  {
   "cell_type": "code",
   "execution_count": 26,
   "metadata": {},
   "outputs": [
    {
     "name": "stdout",
     "output_type": "stream",
     "text": [
      "0.000000,0.000000\n",
      "-1332.329874,1307.339756\n",
      "-1453.127782,1437.227557\n",
      "-1542.660350,1589.115897\n",
      "-1593.821817,1754.543031\n",
      "-1610.875639,1928.431911\n",
      "-1625.087158,2101.051530\n",
      "-1642.140980,2273.248060\n",
      "-1690.460144,2437.829020\n",
      "-1771.465800,2587.178837\n",
      "-1885.157949,2713.681939\n",
      "-2683.845297,3405.852761\n"
     ]
    }
   ],
   "source": [
    "{\n",
    "    std::vector<PolyLine::iterator> result;\n",
    "    DouglasPeucker dp(1);\n",
    "    dp(std::begin(polyline), std::end(polyline), movetk::utils::movetk_back_insert_iterator(result));\n",
    "    for (auto reference: result) {\n",
    "        cout << *reference;\n",
    "        std::cout << \"\\n\";\n",
    "    }\n",
    "}"
   ]
  },
  {
   "cell_type": "markdown",
   "metadata": {},
   "source": [
    "# Imai-Iri Simplification"
   ]
  },
  {
   "cell_type": "code",
   "execution_count": 27,
   "metadata": {},
   "outputs": [
    {
     "data": {
      "text/html": [
       "<style>\n",
       "            #pager-container {\n",
       "                padding: 0;\n",
       "                margin: 0;\n",
       "                width: 100%;\n",
       "                height: 100%;\n",
       "            }\n",
       "            .xcpp-iframe-pager {\n",
       "                padding: 0;\n",
       "                margin: 0;\n",
       "                width: 100%;\n",
       "                height: 100%;\n",
       "                border: none;\n",
       "            }\n",
       "            </style>\n",
       "            <iframe class=\"xcpp-iframe-pager\" src=\"http://192.168.99.100/movetk.reference/classmovetk__core_1_1_wedge.html?action=purge\"></iframe>"
      ],
      "text/plain": [
       "http://192.168.99.100/movetk.reference/classmovetk__core_1_1_wedge.html"
      ]
     },
     "metadata": {},
     "output_type": "execute_result"
    }
   ],
   "source": [
    "?movetk::utils::Wedge"
   ]
  },
  {
   "cell_type": "code",
   "execution_count": 28,
   "metadata": {},
   "outputs": [
    {
     "data": {
      "text/html": [
       "<style>\n",
       "            #pager-container {\n",
       "                padding: 0;\n",
       "                margin: 0;\n",
       "                width: 100%;\n",
       "                height: 100%;\n",
       "            }\n",
       "            .xcpp-iframe-pager {\n",
       "                padding: 0;\n",
       "                margin: 0;\n",
       "                width: 100%;\n",
       "                height: 100%;\n",
       "                border: none;\n",
       "            }\n",
       "            </style>\n",
       "            <iframe class=\"xcpp-iframe-pager\" src=\"http://192.168.99.100/movetk.reference/classmovetk__algorithms_1_1_chan_chin.html?action=purge\"></iframe>"
      ],
      "text/plain": [
       "http://192.168.99.100/movetk.reference/classmovetk__algorithms_1_1_chan_chin.html"
      ]
     },
     "metadata": {},
     "output_type": "execute_result"
    }
   ],
   "source": [
    "?movetk::algo::ChanChin"
   ]
  },
  {
   "cell_type": "code",
   "execution_count": 29,
   "metadata": {},
   "outputs": [
    {
     "data": {
      "text/html": [
       "<style>\n",
       "            #pager-container {\n",
       "                padding: 0;\n",
       "                margin: 0;\n",
       "                width: 100%;\n",
       "                height: 100%;\n",
       "            }\n",
       "            .xcpp-iframe-pager {\n",
       "                padding: 0;\n",
       "                margin: 0;\n",
       "                width: 100%;\n",
       "                height: 100%;\n",
       "                border: none;\n",
       "            }\n",
       "            </style>\n",
       "            <iframe class=\"xcpp-iframe-pager\" src=\"http://192.168.99.100/movetk.reference/classmovetk__algorithms_1_1_imai_iri.html?action=purge\"></iframe>"
      ],
      "text/plain": [
       "http://192.168.99.100/movetk.reference/classmovetk__algorithms_1_1_imai_iri.html"
      ]
     },
     "metadata": {},
     "output_type": "execute_result"
    }
   ],
   "source": [
    "?movetk::algo::ImaiIri"
   ]
  },
  {
   "cell_type": "code",
   "execution_count": 30,
   "metadata": {},
   "outputs": [
    {
     "name": "stdout",
     "output_type": "stream",
     "text": [
      "0.000000,0.000000\n",
      "-797.266196,783.134591\n",
      "-933.696775,916.830178\n",
      "-1200.873326,1179.567391\n",
      "-1332.329874,1307.339756\n",
      "-1453.127782,1437.227557\n",
      "-1542.660350,1589.115897\n",
      "-1593.821817,1754.543031\n",
      "-1610.875639,1928.431911\n",
      "-1625.087158,2101.051530\n",
      "-1642.140980,2273.248060\n",
      "-1690.460144,2437.829020\n",
      "-1771.465800,2587.178837\n",
      "-1885.157949,2713.681939\n",
      "-2153.755652,2946.803041\n",
      "-2683.845297,3405.852761\n"
     ]
    }
   ],
   "source": [
    "{\n",
    "    std::vector<PolyLine::iterator> result;\n",
    "    ImaiIri ii(1);\n",
    "    ii(std::begin(polyline), std::end(polyline), movetk::utils::movetk_back_insert_iterator(result));\n",
    "    for (auto reference: result) {\n",
    "        cout << *reference;\n",
    "        std::cout << \"\\n\";\n",
    "    }\n",
    "}"
   ]
  },
  {
   "cell_type": "markdown",
   "metadata": {},
   "source": [
    "## Sub-trajectory Clustering"
   ]
  },
  {
   "cell_type": "code",
   "execution_count": 31,
   "metadata": {},
   "outputs": [
    {
     "data": {
      "text/html": [
       "<style>\n",
       "            #pager-container {\n",
       "                padding: 0;\n",
       "                margin: 0;\n",
       "                width: 100%;\n",
       "                height: 100%;\n",
       "            }\n",
       "            .xcpp-iframe-pager {\n",
       "                padding: 0;\n",
       "                margin: 0;\n",
       "                width: 100%;\n",
       "                height: 100%;\n",
       "                border: none;\n",
       "            }\n",
       "            </style>\n",
       "            <iframe class=\"xcpp-iframe-pager\" src=\"http://192.168.99.100/movetk.reference/structmovetk__algorithms_1_1_clustering_traits.html?action=purge\"></iframe>"
      ],
      "text/plain": [
       "http://192.168.99.100/movetk.reference/structmovetk__algorithms_1_1_clustering_traits.html"
      ]
     },
     "metadata": {},
     "output_type": "execute_result"
    }
   ],
   "source": [
    "?movetk::algo::ClusteringTraits"
   ]
  },
  {
   "cell_type": "code",
   "execution_count": 32,
   "metadata": {},
   "outputs": [
    {
     "data": {
      "text/html": [
       "<style>\n",
       "            #pager-container {\n",
       "                padding: 0;\n",
       "                margin: 0;\n",
       "                width: 100%;\n",
       "                height: 100%;\n",
       "            }\n",
       "            .xcpp-iframe-pager {\n",
       "                padding: 0;\n",
       "                margin: 0;\n",
       "                width: 100%;\n",
       "                height: 100%;\n",
       "                border: none;\n",
       "            }\n",
       "            </style>\n",
       "            <iframe class=\"xcpp-iframe-pager\" src=\"http://192.168.99.100/movetk.reference/classmovetk__algorithms_1_1_sub_trajectory_clustering.html?action=purge\"></iframe>"
      ],
      "text/plain": [
       "http://192.168.99.100/movetk.reference/classmovetk__algorithms_1_1_sub_trajectory_clustering.html"
      ]
     },
     "metadata": {},
     "output_type": "execute_result"
    }
   ],
   "source": [
    "?movetk::algo::SubTrajectoryClustering"
   ]
  },
  {
   "cell_type": "code",
   "execution_count": 33,
   "metadata": {},
   "outputs": [
    {
     "name": "stdout",
     "output_type": "stream",
     "text": [
      "Number of edges:25\n",
      "Edges: {((27,0),0);((54,27),0);((81,54),0);((108,81),0);((135,108),0);((162,135),0);((189,162),0);((216,189),0);((243,216),0);((270,243),0);((297,270),0);((324,297),0);((351,324),0);((378,351),0);((405,378),0);((432,405),0);((459,432),0);((486,459),0);((513,486),0);((540,513),0);((567,540),0);((594,567),0);((621,594),0);((648,621),0);((675,648),0);}\n",
      "Subtrajectory Length: 1\n",
      "Subtrajectory Index: 0,1\n"
     ]
    }
   ],
   "source": [
    "{\n",
    "    SubTrajectoryClustering clustering(std::begin(polyline),std::end(polyline), 3,0.5);\n",
    "    \n",
    "    std::cout<<\"Number of edges:\"<<std::distance(clustering.edges_begin(),clustering.edges_end())<<\"\\n\";\n",
    "    auto eit = clustering.edges_begin();\n",
    "    std::cout<<\"Edges: {\";\n",
    "    while (eit != clustering.edges_end()){\n",
    "        std::cout<<\"(\";\n",
    "        std::cout<<*eit;\n",
    "        std::cout<<\",\";\n",
    "        std::cout<<clustering.label[*eit];\n",
    "        std::cout<<\");\";\n",
    "        eit++;\n",
    "    }\n",
    "    std::cout<<\"}\\n\";\n",
    "\n",
    "    std::cout<<\"Subtrajectory Length: \"<<clustering.get_subtrajectory_cluster_length()<<\"\\n\";\n",
    "    std::cout<<\"Subtrajectory Index: \"<<clustering.get_subtrajectory_indices().first\n",
    "             <<\",\"<<clustering.get_subtrajectory_indices().second<<\"\\n\";\n",
    "}"
   ]
  },
  {
   "cell_type": "markdown",
   "metadata": {},
   "source": [
    "# Linear Interpolation"
   ]
  },
  {
   "cell_type": "code",
   "execution_count": 34,
   "metadata": {},
   "outputs": [
    {
     "data": {
      "text/html": [
       "<style>\n",
       "            #pager-container {\n",
       "                padding: 0;\n",
       "                margin: 0;\n",
       "                width: 100%;\n",
       "                height: 100%;\n",
       "            }\n",
       "            .xcpp-iframe-pager {\n",
       "                padding: 0;\n",
       "                margin: 0;\n",
       "                width: 100%;\n",
       "                height: 100%;\n",
       "                border: none;\n",
       "            }\n",
       "            </style>\n",
       "            <iframe class=\"xcpp-iframe-pager\" src=\"http://192.168.99.100/movetk.reference/structmovetk__algorithms_1_1_interpolation_traits.html?action=purge\"></iframe>"
      ],
      "text/plain": [
       "http://192.168.99.100/movetk.reference/structmovetk__algorithms_1_1_interpolation_traits.html"
      ]
     },
     "metadata": {},
     "output_type": "execute_result"
    }
   ],
   "source": [
    "?movetk::algo::InterpolationTraits"
   ]
  },
  {
   "cell_type": "code",
   "execution_count": 35,
   "metadata": {},
   "outputs": [
    {
     "data": {
      "text/html": [
       "<style>\n",
       "            #pager-container {\n",
       "                padding: 0;\n",
       "                margin: 0;\n",
       "                width: 100%;\n",
       "                height: 100%;\n",
       "            }\n",
       "            .xcpp-iframe-pager {\n",
       "                padding: 0;\n",
       "                margin: 0;\n",
       "                width: 100%;\n",
       "                height: 100%;\n",
       "                border: none;\n",
       "            }\n",
       "            </style>\n",
       "            <iframe class=\"xcpp-iframe-pager\" src=\"http://192.168.99.100/movetk.reference/classmovetk__algorithms_1_1_interpolator.html?action=purge\"></iframe>"
      ],
      "text/plain": [
       "http://192.168.99.100/movetk.reference/classmovetk__algorithms_1_1_interpolator.html"
      ]
     },
     "metadata": {},
     "output_type": "execute_result"
    }
   ],
   "source": [
    "?movetk::algo::Interpolator"
   ]
  },
  {
   "cell_type": "code",
   "execution_count": 36,
   "metadata": {},
   "outputs": [
    {
     "data": {
      "text/plain": [
       "-4.3885865e+202L"
      ]
     },
     "execution_count": 36,
     "metadata": {},
     "output_type": "execute_result"
    }
   ],
   "source": [
    "typedef MovetkGeometryKernel::NT NT;\n",
    "struct _ProbeTraits{\n",
    "  \n",
    "        enum ProbeColumns{\n",
    "          SAMPLE_DATE, LAT, LON, HEADING, SPEED\n",
    "        }; \n",
    "    \n",
    "       typedef std::tuple<std::size_t, NT, NT, NT, NT>  ProbePoint;\n",
    "};\n",
    "    \n",
    "typedef IPTraits<_ProbeTraits> _IPTraits;\n",
    "        \n",
    "_ProbeTraits::ProbePoint p_u = std::make_tuple(1537293593, 33.2991033, -117.4647513, 314, 126);\n",
    "_ProbeTraits::ProbePoint p_v = std::make_tuple(1537293598, 33.3002221, -117.4661122, 314, 129 );\n",
    "    \n",
    "std::get<_ProbeTraits::ProbeColumns::SPEED>(p_u) = std::get<_ProbeTraits::ProbeColumns::SPEED>(p_u) * 0.277778;\n",
    "std::get<_ProbeTraits::ProbeColumns::SPEED>(p_v) = std::get<_ProbeTraits::ProbeColumns::SPEED>(p_v) * 0.277778;"
   ]
  },
  {
   "cell_type": "code",
   "execution_count": 37,
   "metadata": {},
   "outputs": [
    {
     "name": "stdout",
     "output_type": "stream",
     "text": [
      "1537293593,33.29910330,-117.46475130,314.00000000,126.00010080\n",
      "1537293594,33.29932706,-117.46502348,314.39168189,127.71178368\n",
      "1537293595,33.29955082,-117.46529566,314.39179369,127.71178368\n",
      "1537293596,33.29977458,-117.46556784,314.39190548,127.71178368\n",
      "1537293597,33.29999834,-117.46584002,314.39201728,127.71178368\n",
      "1537293598,33.30022210,-117.46611220,314.00000000,129.00010320\n"
     ]
    }
   ],
   "source": [
    "{\n",
    "    \n",
    "    std::vector<std::size_t> to_interpolate_ts {1537293593, 1537293594, 1537293595, 1537293596, 1537293597, 1537293598};\n",
    "    std::vector<_ProbeTraits::ProbePoint> interpolated_pts; \n",
    "   \n",
    "    {\n",
    "        typename _IPTraits::LinearInterpolator linear_interpolator(std::get<_ProbeTraits::ProbeColumns::LAT>(p_u),\n",
    "                                                             std::get<_ProbeTraits::ProbeColumns::LON>(p_u));\n",
    "    \n",
    "        linear_interpolator(p_u, p_v, std::begin(to_interpolate_ts), std::end(to_interpolate_ts),\n",
    "                                                              movetk::utils::movetk_back_insert_iterator(interpolated_pts));\n",
    "    }\n",
    "    \n",
    "    for(auto& pt: interpolated_pts){\n",
    "        std::get<_ProbeTraits::ProbeColumns::SPEED>(pt) = std::get<_ProbeTraits::ProbeColumns::SPEED>(pt) * 3.6;\n",
    "        print_tuple(std::cout, pt);\n",
    "        std::cout << \"\\n\";\n",
    "    }\n",
    "    \n",
    "}"
   ]
  },
  {
   "cell_type": "markdown",
   "metadata": {},
   "source": [
    "# Kinematic Interpolation"
   ]
  },
  {
   "cell_type": "code",
   "execution_count": 38,
   "metadata": {},
   "outputs": [
    {
     "name": "stdout",
     "output_type": "stream",
     "text": [
      "1537293593,33.29910330,-117.46475130,314.00000000,126.00010080\n",
      "1537293594,33.29932251,-117.46502162,314.00010573,125.70691041\n",
      "1537293595,33.29954215,-117.46529246,314.00021646,126.47960637\n",
      "1537293596,33.29976465,-117.46556416,314.09445566,126.45145348\n",
      "1537293597,33.29999045,-117.46583725,314.21139436,127.43409384\n",
      "1537293598,33.30022210,-117.46611220,314.00000000,129.00010320\n"
     ]
    }
   ],
   "source": [
    "{\n",
    "    \n",
    "    std::vector<std::size_t> to_interpolate_ts {1537293594, 1537293595, 1537293596, 1537293597};\n",
    "    std::vector<_ProbeTraits::ProbePoint> interpolated_pts; \n",
    "   \n",
    "    {\n",
    "        typename _IPTraits::KinematicInterpolator kinematic_interpolator(std::get<_ProbeTraits::ProbeColumns::LAT>(p_u),\n",
    "                                                             std::get<_ProbeTraits::ProbeColumns::LON>(p_u));\n",
    "    \n",
    "        movetk::utils::movetk_back_insert_iterator result(interpolated_pts);\n",
    "        result = std::make_tuple(1537293593, 33.2991033, -117.4647513, 314, 126 * 0.277778);\n",
    "        kinematic_interpolator(p_u, p_v, std::begin(to_interpolate_ts), std::end(to_interpolate_ts), result);\n",
    "        result = std::make_tuple(1537293598, 33.3002221, -117.4661122, 314, 129 * 0.277778);\n",
    "    }\n",
    "    \n",
    "    for(auto& pt: interpolated_pts){\n",
    "        std::get<_ProbeTraits::ProbeColumns::SPEED>(pt) = std::get<_ProbeTraits::ProbeColumns::SPEED>(pt) * 3.6;\n",
    "        print_tuple(std::cout, pt);\n",
    "        std::cout << \"\\n\";\n",
    "    }\n",
    "    \n",
    "}"
   ]
  },
  {
   "cell_type": "markdown",
   "metadata": {},
   "source": [
    "# "
   ]
  }
 ],
 "metadata": {
  "kernelspec": {
   "display_name": "C++17",
   "language": "C++17",
   "name": "xcpp17"
  },
  "language_info": {
   "codemirror_mode": "text/x-c++src",
   "file_extension": ".cpp",
   "mimetype": "text/x-c++src",
   "name": "c++",
   "version": "2.7.15-final"
  }
 },
 "nbformat": 4,
 "nbformat_minor": 0
}