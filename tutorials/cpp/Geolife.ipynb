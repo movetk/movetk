{
 "cells": [
  {
   "cell_type": "markdown",
   "metadata": {},
   "source": [
    "# First run the geolife.py script to generate trajectories"
   ]
  },
  {
   "cell_type": "code",
   "execution_count": 2,
   "metadata": {},
   "outputs": [],
   "source": [
    "#pragma cling add_include_path(\"/usr/src/movetk/tutorials\")"
   ]
  },
  {
   "cell_type": "code",
   "execution_count": 3,
   "metadata": {},
   "outputs": [],
   "source": [
    "#pragma cling add_include_path(\"/usr/local/include\")"
   ]
  },
  {
   "cell_type": "code",
   "execution_count": 4,
   "metadata": {
    "tags": []
   },
   "outputs": [
    {
     "output_type": "stream",
     "name": "stderr",
     "text": "In file included from input_line_15:1:\nIn file included from /usr/local/include/movetk/utils/Geolife.h:21:\nIn file included from /usr/local/include/movetk/io/ProbeReader.h:40:\nIn file included from /miniconda/include/boost/iostreams/copy.hpp:26:\n\u001b[1m/miniconda/include/boost/bind.hpp:36:1: \u001b[0m\u001b[0;1;35mwarning: \u001b[0m\u001b[1mThe practice of declaring the Bind placeholders (_1, _2, ...) in the global namespace is deprecated. Please use\n      &lt;boost/bind/bind.hpp&gt; + using namespace boost::placeholders, or define BOOST_BIND_GLOBAL_PLACEHOLDERS to retain the current\n      behavior. [-W#pragma-messages]\u001b[0m\nBOOST_PRAGMA_MESSAGE(\n\u001b[0;1;32m^\n\u001b[0m\u001b[1m/miniconda/include/boost/config/pragma_message.hpp:24:34: \u001b[0m\u001b[0;1;30mnote: \u001b[0mexpanded from macro &#39;BOOST_PRAGMA_MESSAGE&#39;\u001b[0m\n# define BOOST_PRAGMA_MESSAGE(x) _Pragma(BOOST_STRINGIZE(message(x)))\n\u001b[0;1;32m                                 ^\n\u001b[0m\u001b[1m&lt;scratch space&gt;:7:2: \u001b[0m\u001b[0;1;30mnote: \u001b[0mexpanded from here\u001b[0m\n message(&quot;The practice of declaring the Bind placeholders (_1, _2, ...) &quot; &quot;in the global namespace is deprecated. Please u...\n\u001b[0;1;32m ^\n\u001b[0m"
    }
   ],
   "source": [
    "#include \"movetk/utils/Geolife.h\""
   ]
  },
  {
   "cell_type": "code",
   "execution_count": 5,
   "metadata": {},
   "outputs": [
    {
     "output_type": "stream",
     "text": "http://127.0.0.1/movetk.reference/class_probe_reader.html"
    }
   ],
   "source": [
    "?ProbeReader"
   ]
  },
  {
   "cell_type": "code",
   "execution_count": 6,
   "metadata": {},
   "outputs": [],
   "source": [
    "// Create trajectory reader\n",
    "std::unique_ptr<movetk::io::ProbeReader<ProbeTraits>> probe_reader;"
   ]
  },
  {
   "cell_type": "code",
   "execution_count": 5,
   "metadata": {},
   "outputs": [],
   "source": [
    "std::string fName = \"/usr/src/movetk/tutorials/out/117.csv\";"
   ]
  },
  {
   "cell_type": "code",
   "execution_count": 6,
   "metadata": {},
   "outputs": [],
   "source": [
    "probe_reader = movetk::io::ProbeReaderFactory::create<ProbeTraits>(fName.c_str());"
   ]
  },
  {
   "cell_type": "code",
   "execution_count": 7,
   "metadata": {},
   "outputs": [
    {
     "data": {
      "text/html": [
       "<style>\n",
       "            #pager-container {\n",
       "                padding: 0;\n",
       "                margin: 0;\n",
       "                width: 100%;\n",
       "                height: 100%;\n",
       "            }\n",
       "            .xcpp-iframe-pager {\n",
       "                padding: 0;\n",
       "                margin: 0;\n",
       "                width: 100%;\n",
       "                height: 100%;\n",
       "                border: none;\n",
       "            }\n",
       "            </style>\n",
       "            <iframe class=\"xcpp-iframe-pager\" src=\"http://192.168.99.100/movetk.reference/class_trajectory_reader.html?action=purge\"></iframe>"
      ],
      "text/plain": [
       "http://192.168.99.100/movetk.reference/class_trajectory_reader.html"
      ]
     },
     "metadata": {},
     "output_type": "execute_result"
    }
   ],
   "source": [
    "?TrajectoryReader"
   ]
  },
  {
   "cell_type": "code",
   "execution_count": 8,
   "metadata": {},
   "outputs": [],
   "source": [
    "//type of probe iterator\n",
    "using ProbeInputIterator = decltype(probe_reader->begin());"
   ]
  },
  {
   "cell_type": "code",
   "execution_count": 9,
   "metadata": {},
   "outputs": [],
   "source": [
    "auto trajectory_reader = movetk::io::TrajectoryReader<TrajectoryTraits, ProbeInputIterator>(probe_reader->begin(), probe_reader->end());"
   ]
  },
  {
   "cell_type": "code",
   "execution_count": 11,
   "metadata": {},
   "outputs": [],
   "source": [
    "std::cout<<\"{\\\"type\\\":\\\"FeatureCollection\\\",\\\"features\\\":[\";\n",
    "\n",
    "for (auto tit = trajectory_reader.begin(); tit!= trajectory_reader.end();){\n",
    "    auto trajectory = *tit;\n",
    "    if (trajectory.size() == 1)\n",
    "    {\n",
    "            ++tit;\n",
    "            continue;\n",
    "    }\n",
    "   //write GeoJSON\n",
    "   GeoJSONGeometry geom;\n",
    "   GeoJSONProperties prop;\n",
    "   GeoJSONFeature feat;\n",
    "   auto lats = trajectory.template get<ProbeTraits::ProbeColumns::LAT>();\n",
    "   auto lons = trajectory.template get<ProbeTraits::ProbeColumns::LON>();\n",
    "   rapidjson::Document geometry = geom(std::begin(lats), std::end(lats),\n",
    "                                        std::begin(lons));\n",
    "    \n",
    "   rapidjson::Document properties = prop();\n",
    "    \n",
    "   rapidjson::Document feature = feat(geometry, properties);\n",
    "   rapidjson::StringBuffer strbuf;\n",
    "   rapidjson::Writer<rapidjson::StringBuffer> writer(strbuf);\n",
    "   feature.Accept(writer);\n",
    "   std::cout << strbuf.GetString();\n",
    "   strbuf.Clear();  \n",
    "   \n",
    "    if (++tit == trajectory_reader.end())\n",
    "            continue;\n",
    "    else\n",
    "            std::cout << \",\";\n",
    "}\n",
    "\n",
    "std::cout << \"]}\" << std::endl;"
   ]
  }
 ],
 "metadata": {
  "kernelspec": {
   "display_name": "C++17",
   "language": "C++17",
   "name": "xcpp17"
  },
  "language_info": {
   "codemirror_mode": "text/x-c++src",
   "file_extension": ".cpp",
   "mimetype": "text/x-c++src",
   "name": "c++",
   "version": "2.7.15-final"
  }
 },
 "nbformat": 4,
 "nbformat_minor": 0
}